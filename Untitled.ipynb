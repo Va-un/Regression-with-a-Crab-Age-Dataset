{
 "cells": [
  {
   "cell_type": "markdown",
   "id": "d51fff95-682b-4627-bbe5-a59e3aa40fa8",
   "metadata": {
    "id": "d51fff95-682b-4627-bbe5-a59e3aa40fa8",
    "tags": []
   },
   "source": [
    "# Importing and Viewing data"
   ]
  },
  {
   "cell_type": "code",
   "execution_count": 1,
   "id": "3a89d9f0-d52c-4fa9-ad0b-869b77b1edbc",
   "metadata": {
    "id": "3a89d9f0-d52c-4fa9-ad0b-869b77b1edbc"
   },
   "outputs": [],
   "source": [
    "import pandas as pd\n",
    "import numpy as np\n",
    "from sklearn.model_selection import train_test_split\n",
    "import plotly.figure_factory as ff\n",
    "import plotly.express as px\n",
    "from sklearn.metrics import mean_squared_error\n",
    "from sklearn.preprocessing import MinMaxScaler"
   ]
  },
  {
   "cell_type": "code",
   "execution_count": 2,
   "id": "e895ccb4-66ae-4415-b607-d15d7a694e00",
   "metadata": {
    "colab": {
     "base_uri": "https://localhost:8080/",
     "height": 455
    },
    "id": "e895ccb4-66ae-4415-b607-d15d7a694e00",
    "outputId": "be1e9938-6167-41f9-bba2-562151ed41ae"
   },
   "outputs": [
    {
     "data": {
      "text/html": [
       "<div>\n",
       "<style scoped>\n",
       "    .dataframe tbody tr th:only-of-type {\n",
       "        vertical-align: middle;\n",
       "    }\n",
       "\n",
       "    .dataframe tbody tr th {\n",
       "        vertical-align: top;\n",
       "    }\n",
       "\n",
       "    .dataframe thead th {\n",
       "        text-align: right;\n",
       "    }\n",
       "</style>\n",
       "<table border=\"1\" class=\"dataframe\">\n",
       "  <thead>\n",
       "    <tr style=\"text-align: right;\">\n",
       "      <th></th>\n",
       "      <th>Sex</th>\n",
       "      <th>Length</th>\n",
       "      <th>Diameter</th>\n",
       "      <th>Height</th>\n",
       "      <th>Weight</th>\n",
       "      <th>Shucked Weight</th>\n",
       "      <th>Viscera Weight</th>\n",
       "      <th>Shell Weight</th>\n",
       "      <th>Age</th>\n",
       "    </tr>\n",
       "    <tr>\n",
       "      <th>id</th>\n",
       "      <th></th>\n",
       "      <th></th>\n",
       "      <th></th>\n",
       "      <th></th>\n",
       "      <th></th>\n",
       "      <th></th>\n",
       "      <th></th>\n",
       "      <th></th>\n",
       "      <th></th>\n",
       "    </tr>\n",
       "  </thead>\n",
       "  <tbody>\n",
       "    <tr>\n",
       "      <th>0</th>\n",
       "      <td>I</td>\n",
       "      <td>1.5250</td>\n",
       "      <td>1.1750</td>\n",
       "      <td>0.3750</td>\n",
       "      <td>28.973189</td>\n",
       "      <td>12.728926</td>\n",
       "      <td>6.647958</td>\n",
       "      <td>8.348928</td>\n",
       "      <td>9</td>\n",
       "    </tr>\n",
       "    <tr>\n",
       "      <th>1</th>\n",
       "      <td>I</td>\n",
       "      <td>1.1000</td>\n",
       "      <td>0.8250</td>\n",
       "      <td>0.2750</td>\n",
       "      <td>10.418441</td>\n",
       "      <td>4.521745</td>\n",
       "      <td>2.324659</td>\n",
       "      <td>3.401940</td>\n",
       "      <td>8</td>\n",
       "    </tr>\n",
       "    <tr>\n",
       "      <th>2</th>\n",
       "      <td>M</td>\n",
       "      <td>1.3875</td>\n",
       "      <td>1.1125</td>\n",
       "      <td>0.3750</td>\n",
       "      <td>24.777463</td>\n",
       "      <td>11.339800</td>\n",
       "      <td>5.556502</td>\n",
       "      <td>6.662133</td>\n",
       "      <td>9</td>\n",
       "    </tr>\n",
       "    <tr>\n",
       "      <th>3</th>\n",
       "      <td>F</td>\n",
       "      <td>1.7000</td>\n",
       "      <td>1.4125</td>\n",
       "      <td>0.5000</td>\n",
       "      <td>50.660556</td>\n",
       "      <td>20.354941</td>\n",
       "      <td>10.991839</td>\n",
       "      <td>14.996885</td>\n",
       "      <td>11</td>\n",
       "    </tr>\n",
       "    <tr>\n",
       "      <th>4</th>\n",
       "      <td>I</td>\n",
       "      <td>1.2500</td>\n",
       "      <td>1.0125</td>\n",
       "      <td>0.3375</td>\n",
       "      <td>23.289114</td>\n",
       "      <td>11.977664</td>\n",
       "      <td>4.507570</td>\n",
       "      <td>5.953395</td>\n",
       "      <td>8</td>\n",
       "    </tr>\n",
       "    <tr>\n",
       "      <th>...</th>\n",
       "      <td>...</td>\n",
       "      <td>...</td>\n",
       "      <td>...</td>\n",
       "      <td>...</td>\n",
       "      <td>...</td>\n",
       "      <td>...</td>\n",
       "      <td>...</td>\n",
       "      <td>...</td>\n",
       "      <td>...</td>\n",
       "    </tr>\n",
       "    <tr>\n",
       "      <th>74046</th>\n",
       "      <td>F</td>\n",
       "      <td>1.6625</td>\n",
       "      <td>1.2625</td>\n",
       "      <td>0.4375</td>\n",
       "      <td>50.660556</td>\n",
       "      <td>20.680960</td>\n",
       "      <td>10.361742</td>\n",
       "      <td>12.332033</td>\n",
       "      <td>10</td>\n",
       "    </tr>\n",
       "    <tr>\n",
       "      <th>74047</th>\n",
       "      <td>I</td>\n",
       "      <td>1.0750</td>\n",
       "      <td>0.8625</td>\n",
       "      <td>0.2750</td>\n",
       "      <td>10.446791</td>\n",
       "      <td>4.323299</td>\n",
       "      <td>2.296310</td>\n",
       "      <td>3.543687</td>\n",
       "      <td>6</td>\n",
       "    </tr>\n",
       "    <tr>\n",
       "      <th>74048</th>\n",
       "      <td>F</td>\n",
       "      <td>1.4875</td>\n",
       "      <td>1.2000</td>\n",
       "      <td>0.4125</td>\n",
       "      <td>29.483480</td>\n",
       "      <td>12.303683</td>\n",
       "      <td>7.540967</td>\n",
       "      <td>8.079607</td>\n",
       "      <td>10</td>\n",
       "    </tr>\n",
       "    <tr>\n",
       "      <th>74049</th>\n",
       "      <td>I</td>\n",
       "      <td>1.2125</td>\n",
       "      <td>0.9625</td>\n",
       "      <td>0.3125</td>\n",
       "      <td>16.768729</td>\n",
       "      <td>8.972617</td>\n",
       "      <td>2.919999</td>\n",
       "      <td>4.280774</td>\n",
       "      <td>8</td>\n",
       "    </tr>\n",
       "    <tr>\n",
       "      <th>74050</th>\n",
       "      <td>I</td>\n",
       "      <td>0.9125</td>\n",
       "      <td>0.6750</td>\n",
       "      <td>0.2000</td>\n",
       "      <td>5.386405</td>\n",
       "      <td>2.055339</td>\n",
       "      <td>1.034757</td>\n",
       "      <td>1.700970</td>\n",
       "      <td>6</td>\n",
       "    </tr>\n",
       "  </tbody>\n",
       "</table>\n",
       "<p>74051 rows × 9 columns</p>\n",
       "</div>"
      ],
      "text/plain": [
       "      Sex  Length  Diameter  Height     Weight  Shucked Weight  \\\n",
       "id                                                               \n",
       "0       I  1.5250    1.1750  0.3750  28.973189       12.728926   \n",
       "1       I  1.1000    0.8250  0.2750  10.418441        4.521745   \n",
       "2       M  1.3875    1.1125  0.3750  24.777463       11.339800   \n",
       "3       F  1.7000    1.4125  0.5000  50.660556       20.354941   \n",
       "4       I  1.2500    1.0125  0.3375  23.289114       11.977664   \n",
       "...    ..     ...       ...     ...        ...             ...   \n",
       "74046   F  1.6625    1.2625  0.4375  50.660556       20.680960   \n",
       "74047   I  1.0750    0.8625  0.2750  10.446791        4.323299   \n",
       "74048   F  1.4875    1.2000  0.4125  29.483480       12.303683   \n",
       "74049   I  1.2125    0.9625  0.3125  16.768729        8.972617   \n",
       "74050   I  0.9125    0.6750  0.2000   5.386405        2.055339   \n",
       "\n",
       "       Viscera Weight  Shell Weight  Age  \n",
       "id                                        \n",
       "0            6.647958      8.348928    9  \n",
       "1            2.324659      3.401940    8  \n",
       "2            5.556502      6.662133    9  \n",
       "3           10.991839     14.996885   11  \n",
       "4            4.507570      5.953395    8  \n",
       "...               ...           ...  ...  \n",
       "74046       10.361742     12.332033   10  \n",
       "74047        2.296310      3.543687    6  \n",
       "74048        7.540967      8.079607   10  \n",
       "74049        2.919999      4.280774    8  \n",
       "74050        1.034757      1.700970    6  \n",
       "\n",
       "[74051 rows x 9 columns]"
      ]
     },
     "execution_count": 2,
     "metadata": {},
     "output_type": "execute_result"
    }
   ],
   "source": [
    "df = pd.read_csv('train.csv',index_col = 'id')\n",
    "df"
   ]
  },
  {
   "cell_type": "code",
   "execution_count": 3,
   "id": "84717a1d-d865-4adf-a38c-678072c4e636",
   "metadata": {
    "colab": {
     "base_uri": "https://localhost:8080/"
    },
    "id": "84717a1d-d865-4adf-a38c-678072c4e636",
    "outputId": "a887356b-d7a7-47bb-b26f-47d52e2bf71f"
   },
   "outputs": [
    {
     "name": "stdout",
     "output_type": "stream",
     "text": [
      "<class 'pandas.core.frame.DataFrame'>\n",
      "Index: 74051 entries, 0 to 74050\n",
      "Data columns (total 9 columns):\n",
      " #   Column          Non-Null Count  Dtype  \n",
      "---  ------          --------------  -----  \n",
      " 0   Sex             74051 non-null  object \n",
      " 1   Length          74051 non-null  float64\n",
      " 2   Diameter        74051 non-null  float64\n",
      " 3   Height          74051 non-null  float64\n",
      " 4   Weight          74051 non-null  float64\n",
      " 5   Shucked Weight  74051 non-null  float64\n",
      " 6   Viscera Weight  74051 non-null  float64\n",
      " 7   Shell Weight    74051 non-null  float64\n",
      " 8   Age             74051 non-null  int64  \n",
      "dtypes: float64(7), int64(1), object(1)\n",
      "memory usage: 5.6+ MB\n"
     ]
    }
   ],
   "source": [
    "df.info()"
   ]
  },
  {
   "cell_type": "code",
   "execution_count": 4,
   "id": "c5c07ee4-b17c-4a27-98a8-a270e6efca63",
   "metadata": {
    "colab": {
     "base_uri": "https://localhost:8080/"
    },
    "id": "c5c07ee4-b17c-4a27-98a8-a270e6efca63",
    "outputId": "0c520fa5-d747-4d22-9e7f-ed410e9c0950"
   },
   "outputs": [
    {
     "data": {
      "text/plain": [
       "Sex               0\n",
       "Length            0\n",
       "Diameter          0\n",
       "Height            0\n",
       "Weight            0\n",
       "Shucked Weight    0\n",
       "Viscera Weight    0\n",
       "Shell Weight      0\n",
       "Age               0\n",
       "dtype: int64"
      ]
     },
     "execution_count": 4,
     "metadata": {},
     "output_type": "execute_result"
    }
   ],
   "source": [
    "df.isnull().sum()"
   ]
  },
  {
   "cell_type": "code",
   "execution_count": 5,
   "id": "0d9e640b-5448-4730-a41e-8e1cb309cfea",
   "metadata": {
    "colab": {
     "base_uri": "https://localhost:8080/",
     "height": 300
    },
    "id": "0d9e640b-5448-4730-a41e-8e1cb309cfea",
    "outputId": "4602157a-ea77-4cb2-e2aa-01ff5fd7a074"
   },
   "outputs": [
    {
     "data": {
      "text/html": [
       "<div>\n",
       "<style scoped>\n",
       "    .dataframe tbody tr th:only-of-type {\n",
       "        vertical-align: middle;\n",
       "    }\n",
       "\n",
       "    .dataframe tbody tr th {\n",
       "        vertical-align: top;\n",
       "    }\n",
       "\n",
       "    .dataframe thead th {\n",
       "        text-align: right;\n",
       "    }\n",
       "</style>\n",
       "<table border=\"1\" class=\"dataframe\">\n",
       "  <thead>\n",
       "    <tr style=\"text-align: right;\">\n",
       "      <th></th>\n",
       "      <th>Length</th>\n",
       "      <th>Diameter</th>\n",
       "      <th>Height</th>\n",
       "      <th>Weight</th>\n",
       "      <th>Shucked Weight</th>\n",
       "      <th>Viscera Weight</th>\n",
       "      <th>Shell Weight</th>\n",
       "      <th>Age</th>\n",
       "    </tr>\n",
       "  </thead>\n",
       "  <tbody>\n",
       "    <tr>\n",
       "      <th>count</th>\n",
       "      <td>74051.000000</td>\n",
       "      <td>74051.000000</td>\n",
       "      <td>74051.000000</td>\n",
       "      <td>74051.000000</td>\n",
       "      <td>74051.000000</td>\n",
       "      <td>74051.000000</td>\n",
       "      <td>74051.000000</td>\n",
       "      <td>74051.000000</td>\n",
       "    </tr>\n",
       "    <tr>\n",
       "      <th>mean</th>\n",
       "      <td>1.317460</td>\n",
       "      <td>1.024496</td>\n",
       "      <td>0.348089</td>\n",
       "      <td>23.385217</td>\n",
       "      <td>10.104270</td>\n",
       "      <td>5.058386</td>\n",
       "      <td>6.723870</td>\n",
       "      <td>9.967806</td>\n",
       "    </tr>\n",
       "    <tr>\n",
       "      <th>std</th>\n",
       "      <td>0.287757</td>\n",
       "      <td>0.237396</td>\n",
       "      <td>0.092034</td>\n",
       "      <td>12.648153</td>\n",
       "      <td>5.618025</td>\n",
       "      <td>2.792729</td>\n",
       "      <td>3.584372</td>\n",
       "      <td>3.175189</td>\n",
       "    </tr>\n",
       "    <tr>\n",
       "      <th>min</th>\n",
       "      <td>0.187500</td>\n",
       "      <td>0.137500</td>\n",
       "      <td>0.000000</td>\n",
       "      <td>0.056699</td>\n",
       "      <td>0.028349</td>\n",
       "      <td>0.042524</td>\n",
       "      <td>0.042524</td>\n",
       "      <td>1.000000</td>\n",
       "    </tr>\n",
       "    <tr>\n",
       "      <th>25%</th>\n",
       "      <td>1.150000</td>\n",
       "      <td>0.887500</td>\n",
       "      <td>0.300000</td>\n",
       "      <td>13.437663</td>\n",
       "      <td>5.712424</td>\n",
       "      <td>2.863300</td>\n",
       "      <td>3.968930</td>\n",
       "      <td>8.000000</td>\n",
       "    </tr>\n",
       "    <tr>\n",
       "      <th>50%</th>\n",
       "      <td>1.375000</td>\n",
       "      <td>1.075000</td>\n",
       "      <td>0.362500</td>\n",
       "      <td>23.799405</td>\n",
       "      <td>9.908150</td>\n",
       "      <td>4.989512</td>\n",
       "      <td>6.931453</td>\n",
       "      <td>10.000000</td>\n",
       "    </tr>\n",
       "    <tr>\n",
       "      <th>75%</th>\n",
       "      <td>1.537500</td>\n",
       "      <td>1.200000</td>\n",
       "      <td>0.412500</td>\n",
       "      <td>32.162508</td>\n",
       "      <td>14.033003</td>\n",
       "      <td>6.988152</td>\n",
       "      <td>9.071840</td>\n",
       "      <td>11.000000</td>\n",
       "    </tr>\n",
       "    <tr>\n",
       "      <th>max</th>\n",
       "      <td>2.012815</td>\n",
       "      <td>1.612500</td>\n",
       "      <td>2.825000</td>\n",
       "      <td>80.101512</td>\n",
       "      <td>42.184056</td>\n",
       "      <td>21.545620</td>\n",
       "      <td>28.491248</td>\n",
       "      <td>29.000000</td>\n",
       "    </tr>\n",
       "  </tbody>\n",
       "</table>\n",
       "</div>"
      ],
      "text/plain": [
       "             Length      Diameter        Height        Weight  Shucked Weight  \\\n",
       "count  74051.000000  74051.000000  74051.000000  74051.000000    74051.000000   \n",
       "mean       1.317460      1.024496      0.348089     23.385217       10.104270   \n",
       "std        0.287757      0.237396      0.092034     12.648153        5.618025   \n",
       "min        0.187500      0.137500      0.000000      0.056699        0.028349   \n",
       "25%        1.150000      0.887500      0.300000     13.437663        5.712424   \n",
       "50%        1.375000      1.075000      0.362500     23.799405        9.908150   \n",
       "75%        1.537500      1.200000      0.412500     32.162508       14.033003   \n",
       "max        2.012815      1.612500      2.825000     80.101512       42.184056   \n",
       "\n",
       "       Viscera Weight  Shell Weight           Age  \n",
       "count    74051.000000  74051.000000  74051.000000  \n",
       "mean         5.058386      6.723870      9.967806  \n",
       "std          2.792729      3.584372      3.175189  \n",
       "min          0.042524      0.042524      1.000000  \n",
       "25%          2.863300      3.968930      8.000000  \n",
       "50%          4.989512      6.931453     10.000000  \n",
       "75%          6.988152      9.071840     11.000000  \n",
       "max         21.545620     28.491248     29.000000  "
      ]
     },
     "execution_count": 5,
     "metadata": {},
     "output_type": "execute_result"
    }
   ],
   "source": [
    "df.describe()"
   ]
  },
  {
   "cell_type": "markdown",
   "id": "4e692c65-5040-402c-98aa-2f422c0d739a",
   "metadata": {
    "colab": {
     "base_uri": "https://localhost:8080/",
     "height": 597
    },
    "id": "d8ff196b-ca7e-4957-bdeb-3a20ab8ed591",
    "jupyter": {
     "outputs_hidden": true
    },
    "outputId": "a9b23747-d0a4-41a5-c34f-17efbb50bdb4",
    "tags": []
   },
   "source": [
    "import plotly.express as px\n",
    "\n",
    "fig = px.imshow(df.corr(), text_auto=True, aspect=\"auto\")\n",
    "fig.show()"
   ]
  },
  {
   "cell_type": "markdown",
   "id": "kMtnQsZHyT_1",
   "metadata": {
    "id": "kMtnQsZHyT_1"
   },
   "source": [
    "We can see that these are Linear"
   ]
  },
  {
   "cell_type": "markdown",
   "id": "ab2438a6-fe90-4e1b-984f-46f406f3c543",
   "metadata": {
    "colab": {
     "base_uri": "https://localhost:8080/",
     "height": 542
    },
    "id": "WtBSRZq07Efw",
    "outputId": "1a88a7cb-00f9-4596-ef25-a5ce6b738305"
   },
   "source": [
    "px.histogram(df,'Age')"
   ]
  },
  {
   "cell_type": "markdown",
   "id": "hhF7uaQi8j-c",
   "metadata": {
    "id": "hhF7uaQi8j-c"
   },
   "source": [
    "# Models\n"
   ]
  },
  {
   "cell_type": "code",
   "execution_count": 6,
   "id": "r320zX0Q8mIl",
   "metadata": {
    "colab": {
     "base_uri": "https://localhost:8080/"
    },
    "id": "r320zX0Q8mIl",
    "outputId": "4eae0abd-e034-4465-82cf-db54a959d3fd"
   },
   "outputs": [],
   "source": [
    "df['Sex'] = df['Sex'].map({'M' : 1,  'I':2, 'F':3})\n"
   ]
  },
  {
   "cell_type": "code",
   "execution_count": 8,
   "id": "_lPU_hD_8mND",
   "metadata": {
    "id": "_lPU_hD_8mND"
   },
   "outputs": [],
   "source": [
    "y = df.pop('Age')\n",
    "scaler = MinMaxScaler()\n",
    "\n",
    "# Fit the scaler to your data\n",
    "scaler.fit(df)\n",
    "\n",
    "# Perform the MinMax scaling and convert to DataFrame\n",
    "X = pd.DataFrame(scaler.transform(df), columns=df.columns)\n",
    "\n",
    "X_train, X_test, y_train, y_test = train_test_split(X, y, test_size=0.2, random_state=42)\n",
    "tb ={}"
   ]
  },
  {
   "cell_type": "markdown",
   "id": "ae7Umxss9NPi",
   "metadata": {
    "id": "ae7Umxss9NPi",
    "tags": []
   },
   "source": [
    "## LinearRegression"
   ]
  },
  {
   "cell_type": "code",
   "execution_count": 9,
   "id": "vBC9kuV58mQ7",
   "metadata": {
    "colab": {
     "base_uri": "https://localhost:8080/"
    },
    "id": "vBC9kuV58mQ7",
    "outputId": "847bd54c-e672-4ea0-b1fe-dfa1a89e6ef5"
   },
   "outputs": [
    {
     "name": "stdout",
     "output_type": "stream",
     "text": [
      "4.6438687763992075\n"
     ]
    }
   ],
   "source": [
    "from sklearn.linear_model import LinearRegression\n",
    "\n",
    "# Create a linear regression model\n",
    "modelLR = LinearRegression()\n",
    "\n",
    "# Fit the model to the training data\n",
    "modelLR.fit(X_train, y_train)\n",
    "\n",
    "# Make predictions on new data\n",
    "predictions = modelLR.predict(X_test)\n",
    "mseL = mean_squared_error(y_test, predictions)\n",
    "new_row = {'ID': 1, 'Model': 'LinearRegression', 'Accuracy':mseL}\n",
    "tb['LinearRegression'] = mseL\n",
    "print(mseL)"
   ]
  },
  {
   "cell_type": "markdown",
   "id": "9clz7G-W9SUW",
   "metadata": {
    "id": "9clz7G-W9SUW",
    "tags": []
   },
   "source": [
    "## [PolynomialFeatures]"
   ]
  },
  {
   "cell_type": "code",
   "execution_count": 10,
   "id": "NSes-jE28mUO",
   "metadata": {
    "colab": {
     "base_uri": "https://localhost:8080/"
    },
    "id": "NSes-jE28mUO",
    "outputId": "24aded5c-bd4e-4303-eb4c-94a3208cbbc0"
   },
   "outputs": [
    {
     "name": "stdout",
     "output_type": "stream",
     "text": [
      "4.301580752639548\n"
     ]
    }
   ],
   "source": [
    "from sklearn.preprocessing import PolynomialFeatures\n",
    "from sklearn.linear_model import LinearRegression\n",
    "from sklearn.metrics import mean_squared_error\n",
    "\n",
    "# Create an instance of PolynomialFeatures with the desired degree\n",
    "poly = PolynomialFeatures(degree=2)\n",
    "\n",
    "# Transform the feature dataset to include polynomial features\n",
    "X_poly = poly.fit_transform(X_train)\n",
    "\n",
    "# Create an instance of the regression model\n",
    "model = LinearRegression()\n",
    "\n",
    "# Fit the model to the augmented feature dataset and the target variable\n",
    "model.fit(X_poly, y_train)\n",
    "\n",
    "# Make predictions using the augmented feature dataset\n",
    "X_polyT = poly.fit_transform(X_test)\n",
    "y_pred = model.predict(X_polyT)\n",
    "\n",
    "# Calculate the root mean squared error\n",
    "rmse = mean_squared_error(y_test, y_pred)\n",
    "print(rmse)\n",
    "tb['PolynomialFeatures'] = rmse"
   ]
  },
  {
   "cell_type": "markdown",
   "id": "slfzPNUT9TRn",
   "metadata": {
    "id": "slfzPNUT9TRn",
    "tags": []
   },
   "source": [
    "## Ridge"
   ]
  },
  {
   "cell_type": "code",
   "execution_count": 11,
   "id": "NW9C31T99TaX",
   "metadata": {
    "colab": {
     "base_uri": "https://localhost:8080/"
    },
    "id": "NW9C31T99TaX",
    "outputId": "bcd32041-c472-4488-8710-e4f40379ab1d"
   },
   "outputs": [
    {
     "name": "stdout",
     "output_type": "stream",
     "text": [
      "4.644834308184121\n"
     ]
    }
   ],
   "source": [
    "from sklearn.linear_model import Ridge\n",
    "\n",
    "# Create a ridge regression model\n",
    "modelR = Ridge(alpha=0.5)\n",
    "\n",
    "# Fit the model to the training data\n",
    "modelR.fit(X_train, y_train)\n",
    "\n",
    "# Make predictions on new data\n",
    "predictions = modelR.predict(X_test)\n",
    "mseL = mean_squared_error(y_test, predictions)\n",
    "new_row = {'ID': 3, 'Model': 'Ridge', 'Accuracy':mseL}\n",
    "\n",
    "print(mseL)\n",
    "tb['Ridge'] = mseL\n"
   ]
  },
  {
   "cell_type": "markdown",
   "id": "s3Y2df569Th-",
   "metadata": {
    "id": "s3Y2df569Th-",
    "tags": []
   },
   "source": [
    "## Lasso"
   ]
  },
  {
   "cell_type": "code",
   "execution_count": 12,
   "id": "LmZmegty9TrE",
   "metadata": {
    "colab": {
     "base_uri": "https://localhost:8080/"
    },
    "id": "LmZmegty9TrE",
    "outputId": "179801c8-a055-42f5-e5ab-19dcd03025fd"
   },
   "outputs": [
    {
     "name": "stdout",
     "output_type": "stream",
     "text": [
      "6.409514974338962\n"
     ]
    }
   ],
   "source": [
    "from sklearn.linear_model import Lasso\n",
    "\n",
    "# Create a lasso regression model\n",
    "modelLA = Lasso(alpha=0.1)\n",
    "\n",
    "# Fit the model to the training data\n",
    "modelLA.fit(X_train, y_train)\n",
    "\n",
    "# Make predictions on new data\n",
    "predictions = modelLA.predict(X_test)\n",
    "mseL = mean_squared_error(y_test, predictions)\n",
    "new_row = {'ID':4, 'Model': 'lasso', 'Accuracy':mseL}\n",
    "tb['lasso'] = mseL\n",
    "print(mseL)"
   ]
  },
  {
   "cell_type": "markdown",
   "id": "8FP1fPpS9TxF",
   "metadata": {
    "id": "8FP1fPpS9TxF",
    "tags": []
   },
   "source": [
    "## ElasticNet"
   ]
  },
  {
   "cell_type": "code",
   "execution_count": 13,
   "id": "tfu2rumh9T31",
   "metadata": {
    "colab": {
     "base_uri": "https://localhost:8080/"
    },
    "id": "tfu2rumh9T31",
    "outputId": "b4f07744-6764-4df3-8d73-0779e0e00069"
   },
   "outputs": [
    {
     "name": "stdout",
     "output_type": "stream",
     "text": [
      "6.93300346181345\n"
     ]
    }
   ],
   "source": [
    "from sklearn.linear_model import ElasticNet\n",
    "\n",
    "# Create an ElasticNet regression model\n",
    "modelEN = ElasticNet(alpha=0.1, l1_ratio=0.5)\n",
    "\n",
    "# Fit the model to the training data\n",
    "modelEN.fit(X_train, y_train)\n",
    "\n",
    "# Make predictions on new data\n",
    "predictions = modelEN.predict(X_test)\n",
    "mseL = mean_squared_error(y_test, predictions)\n",
    "new_row = {'ID': 5, 'Model': 'ElasticNet', 'Accuracy':mseL}\n",
    "tb['ElasticNet'] = mseL\n",
    "print(mseL)"
   ]
  },
  {
   "cell_type": "markdown",
   "id": "M7pFjRXa9UK4",
   "metadata": {
    "id": "M7pFjRXa9UK4",
    "tags": []
   },
   "source": [
    "## DecisionTreeRegressor"
   ]
  },
  {
   "cell_type": "code",
   "execution_count": 14,
   "id": "_2T85d9B9URB",
   "metadata": {
    "id": "_2T85d9B9URB"
   },
   "outputs": [
    {
     "name": "stdout",
     "output_type": "stream",
     "text": [
      "8.514077374924042\n"
     ]
    }
   ],
   "source": [
    "from sklearn.tree import DecisionTreeRegressor\n",
    "\n",
    "# Create a decision tree regression model\n",
    "modelDTR = DecisionTreeRegressor()\n",
    "\n",
    "# Fit the model to the training data\n",
    "modelDTR.fit(X_train, y_train)\n",
    "\n",
    "# Make predictions on new data\n",
    "predictions = modelDTR.predict(X_test)\n",
    "mseL = mean_squared_error(y_test, predictions)\n",
    "new_row = {'ID': 7, 'Model': 'DecisionTreeRegressor', 'Accuracy':mseL}\n",
    "tb[ 'DecisionTreeRegressor'] = mseL\n",
    "print(mseL)"
   ]
  },
  {
   "cell_type": "markdown",
   "id": "-svPhUFZ9UZB",
   "metadata": {
    "id": "-svPhUFZ9UZB",
    "tags": []
   },
   "source": [
    "## RandomForestRegressor"
   ]
  },
  {
   "cell_type": "code",
   "execution_count": 15,
   "id": "S7suPUi19Ufq",
   "metadata": {
    "id": "S7suPUi19Ufq"
   },
   "outputs": [
    {
     "name": "stdout",
     "output_type": "stream",
     "text": [
      "4.356784191331612\n"
     ]
    }
   ],
   "source": [
    "from sklearn.ensemble import RandomForestRegressor\n",
    "\n",
    "# Create a random forest regression model\n",
    "modelRFR = RandomForestRegressor(n_estimators = 800)\n",
    "\n",
    "# Fit the model to the training data\n",
    "modelRFR.fit(X_train, y_train)\n",
    "\n",
    "# Make predictions on new data\n",
    "predictions = modelRFR.predict(X_test)\n",
    "mseL = mean_squared_error(y_test, predictions)\n",
    "new_row = {'ID': 8, 'Model': 'RandomForestRegressor', 'Accuracy':mseL}\n",
    "tb[ 'RandomForestRegressor'] = mseL\n",
    "print(mseL)"
   ]
  },
  {
   "cell_type": "markdown",
   "id": "ZyHLbRro9yBP",
   "metadata": {
    "id": "ZyHLbRro9yBP",
    "tags": []
   },
   "source": [
    "## GradientBoostingRegressor"
   ]
  },
  {
   "cell_type": "code",
   "execution_count": 16,
   "id": "iNtI5zpk9x3_",
   "metadata": {
    "id": "iNtI5zpk9x3_"
   },
   "outputs": [],
   "source": [
    "from sklearn.ensemble import GradientBoostingRegressor\n",
    "\n",
    "# Create a gradient boosting regression model\n",
    "\n",
    "modelGBR = GradientBoostingRegressor(n_estimators = 800)\n",
    "\n",
    "    # Fit the model to the training data\n",
    "modelGBR.fit(X_train, y_train)\n",
    "\n",
    "# Make predictions on new data\n",
    "predictions = modelGBR.predict(X_test)\n",
    "mseL = mean_squared_error(y_test, predictions)\n",
    "new_row = {'ID': 9, 'Model': 'GradientBoostingRegressor', 'Accuracy':mseL}\n",
    "tb[ 'GradientBoostingRegressor'] = mseL\n"
   ]
  },
  {
   "cell_type": "markdown",
   "id": "YfB0H8bD-HEC",
   "metadata": {
    "id": "YfB0H8bD-HEC",
    "tags": []
   },
   "source": [
    "## BayesianRidge"
   ]
  },
  {
   "cell_type": "code",
   "execution_count": 17,
   "id": "KmFvAt2Y-HJS",
   "metadata": {
    "id": "KmFvAt2Y-HJS"
   },
   "outputs": [
    {
     "name": "stdout",
     "output_type": "stream",
     "text": [
      "4.643900746833225\n"
     ]
    }
   ],
   "source": [
    "from sklearn.linear_model import BayesianRidge\n",
    "\n",
    "# Create a Bayesian Ridge regression model\n",
    "modelbr = BayesianRidge()\n",
    "\n",
    "# Fit the model to the training data\n",
    "modelbr.fit(X_train, y_train)\n",
    "\n",
    "# Make predictions on new data\n",
    "predictions = modelbr.predict(X_test)\n",
    "mseL = mean_squared_error(y_test, predictions)\n",
    "new_row = {'ID': 12, 'Model': 'BayesianRidge', 'Accuracy':mseL}\n",
    "tb[ 'BayesianRidge'] = mseL\n",
    "print(mseL)"
   ]
  },
  {
   "cell_type": "markdown",
   "id": "lzzizKUW-HO1",
   "metadata": {
    "id": "lzzizKUW-HO1",
    "tags": []
   },
   "source": [
    "## PassiveAggressiveRegressor"
   ]
  },
  {
   "cell_type": "code",
   "execution_count": 18,
   "id": "aNKHfEYj-HVG",
   "metadata": {
    "id": "aNKHfEYj-HVG"
   },
   "outputs": [
    {
     "name": "stdout",
     "output_type": "stream",
     "text": [
      "9.953226743474952\n"
     ]
    }
   ],
   "source": [
    "from sklearn.linear_model import PassiveAggressiveRegressor\n",
    "\n",
    "# Create a Passive Aggressive regression model\n",
    "modelPAR = PassiveAggressiveRegressor()\n",
    "\n",
    "# Fit the model to the training data\n",
    "modelPAR.fit(X_train, y_train)\n",
    "\n",
    "# Make predictions on new data\n",
    "predictions = modelPAR.predict(X_test)\n",
    "mseL = mean_squared_error(y_test, predictions)\n",
    "new_row = {'ID': 13, 'Model': 'PassiveAggressiveRegressor', 'Accuracy':mseL}\n",
    "tb[ 'PassiveAggressiveRegressor'] = mseL\n",
    "print(mseL)"
   ]
  },
  {
   "cell_type": "markdown",
   "id": "GZZLSDh2-Hb3",
   "metadata": {
    "id": "GZZLSDh2-Hb3",
    "tags": []
   },
   "source": [
    "## OrthogonalMatchingPursuit"
   ]
  },
  {
   "cell_type": "code",
   "execution_count": 19,
   "id": "yq-mfPe1-Hgh",
   "metadata": {
    "id": "yq-mfPe1-Hgh"
   },
   "outputs": [
    {
     "name": "stdout",
     "output_type": "stream",
     "text": [
      "6.24413119272728\n"
     ]
    }
   ],
   "source": [
    "from sklearn.linear_model import OrthogonalMatchingPursuit\n",
    "\n",
    "# Create an Orthogonal Matching Pursuit regression model\n",
    "modelOMP = OrthogonalMatchingPursuit()\n",
    "\n",
    "# Fit the model to the training data\n",
    "modelOMP.fit(X_train, y_train)\n",
    "\n",
    "# Make predictions on new data\n",
    "predictions = modelOMP.predict(X_test)\n",
    "mseL = mean_squared_error(y_test, predictions)\n",
    "new_row = {'ID': 14, 'Model': 'OrthogonalMatchingPursuit', 'Accuracy':mseL}\n",
    "tb[ 'OrthogonalMatchingPursuit'] = mseL\n",
    "\n",
    "print(mseL)"
   ]
  },
  {
   "cell_type": "markdown",
   "id": "Lyp9VkX9-Hlp",
   "metadata": {
    "id": "Lyp9VkX9-Hlp",
    "tags": []
   },
   "source": [
    "## RANSACRegressor"
   ]
  },
  {
   "cell_type": "code",
   "execution_count": 20,
   "id": "svpY8Xem-HrI",
   "metadata": {
    "id": "svpY8Xem-HrI"
   },
   "outputs": [
    {
     "name": "stdout",
     "output_type": "stream",
     "text": [
      "6.6810809790051255\n"
     ]
    }
   ],
   "source": [
    "from sklearn.linear_model import RANSACRegressor\n",
    "from sklearn.linear_model import LinearRegression\n",
    "\n",
    "# Create a RANSAC regression model\n",
    "ransac = RANSACRegressor(LinearRegression(), min_samples=5, residual_threshold=0.5)\n",
    "\n",
    "# Fit the model to the training data\n",
    "ransac.fit(X_train, y_train)\n",
    "\n",
    "# Make predictions on new data\n",
    "predictions = ransac.predict(X_test)\n",
    "mseL = mean_squared_error(y_test, predictions)\n",
    "new_row = {'ID': 15, 'Model': 'RANSACRegressor', 'Accuracy':mseL}\n",
    "tb[ 'RANSACRegressor'] = mseL\n",
    "print(mseL)"
   ]
  },
  {
   "cell_type": "markdown",
   "id": "BaJ8JHEH-HwU",
   "metadata": {
    "id": "BaJ8JHEH-HwU",
    "tags": []
   },
   "source": [
    "## HuberRegressor"
   ]
  },
  {
   "cell_type": "code",
   "execution_count": 21,
   "id": "04x9F7cO-H0z",
   "metadata": {
    "id": "04x9F7cO-H0z"
   },
   "outputs": [
    {
     "name": "stdout",
     "output_type": "stream",
     "text": [
      "4.795631576242048\n"
     ]
    },
    {
     "name": "stderr",
     "output_type": "stream",
     "text": [
      "C:\\Users\\Varun Chindage\\AppData\\Roaming\\Python\\Python39\\site-packages\\sklearn\\linear_model\\_huber.py:342: ConvergenceWarning: lbfgs failed to converge (status=1):\n",
      "STOP: TOTAL NO. of ITERATIONS REACHED LIMIT.\n",
      "\n",
      "Increase the number of iterations (max_iter) or scale the data as shown in:\n",
      "    https://scikit-learn.org/stable/modules/preprocessing.html\n",
      "  self.n_iter_ = _check_optimize_result(\"lbfgs\", opt_res, self.max_iter)\n"
     ]
    }
   ],
   "source": [
    "from sklearn.linear_model import HuberRegressor\n",
    "\n",
    "# Create a Huber regression model\n",
    "modelHR = HuberRegressor()\n",
    "\n",
    "# Fit the model to the training data\n",
    "modelHR.fit(X_train, y_train)\n",
    "\n",
    "# Make predictions on new data\n",
    "predictions = modelHR.predict(X_test)\n",
    "mseL = mean_squared_error(y_test, predictions)\n",
    "new_row = {'ID': 16, 'Model': 'HuberRegressor', 'Accuracy':mseL}\n",
    "tb[ 'HuberRegressor'] = mseL\n",
    "print(mseL)"
   ]
  },
  {
   "cell_type": "markdown",
   "id": "ydC_-Aha-H5o",
   "metadata": {
    "id": "ydC_-Aha-H5o",
    "tags": []
   },
   "source": [
    "## TheilSenRegressor"
   ]
  },
  {
   "cell_type": "code",
   "execution_count": 22,
   "id": "dWkoBP63-H-J",
   "metadata": {
    "id": "dWkoBP63-H-J"
   },
   "outputs": [
    {
     "name": "stdout",
     "output_type": "stream",
     "text": [
      "4.705804062162434\n"
     ]
    }
   ],
   "source": [
    "from sklearn.linear_model import TheilSenRegressor\n",
    "\n",
    "# Create a Theil-Sen regression model\n",
    "modelTSR = TheilSenRegressor()\n",
    "\n",
    "# Fit the model to the training data\n",
    "modelTSR.fit(X_train, y_train)\n",
    "\n",
    "# Make predictions on new data\n",
    "predictions = modelTSR.predict(X_test)\n",
    "mseL = mean_squared_error(y_test, predictions)\n",
    "new_row = {'ID': 17, 'Model': 'TheilSenRegressor', 'Accuracy':mseL}\n",
    "tb[ 'TheilSenRegressor'] = mseL\n",
    "print(mseL)"
   ]
  },
  {
   "cell_type": "markdown",
   "id": "dEy_Kuit-IDO",
   "metadata": {
    "id": "dEy_Kuit-IDO",
    "tags": []
   },
   "source": [
    "## ARDRegression"
   ]
  },
  {
   "cell_type": "code",
   "execution_count": 23,
   "id": "b6J0Vj8w-IHt",
   "metadata": {
    "id": "b6J0Vj8w-IHt"
   },
   "outputs": [
    {
     "name": "stdout",
     "output_type": "stream",
     "text": [
      "4.644759225794523\n"
     ]
    }
   ],
   "source": [
    "from sklearn.linear_model import ARDRegression\n",
    "\n",
    "# Create an ARD regression model\n",
    "modelAR = ARDRegression()\n",
    "\n",
    "# Fit the model to the training data\n",
    "modelAR.fit(X_train, y_train)\n",
    "\n",
    "# Make predictions on new data\n",
    "predictions = modelAR.predict(X_test)\n",
    "mseL = mean_squared_error(y_test, predictions)\n",
    "new_row = {'ID': 18, 'Model': 'ARDRegression', 'Accuracy':mseL}\n",
    "tb['ARDRegression'] = mseL\n",
    "print(mseL)"
   ]
  },
  {
   "cell_type": "markdown",
   "id": "H2LGNwOi-wnh",
   "metadata": {
    "id": "H2LGNwOi-wnh",
    "tags": []
   },
   "source": [
    "## PassiveAggressiveClassifier"
   ]
  },
  {
   "cell_type": "code",
   "execution_count": 24,
   "id": "RYAbtT0o-wyr",
   "metadata": {
    "id": "RYAbtT0o-wyr"
   },
   "outputs": [
    {
     "name": "stdout",
     "output_type": "stream",
     "text": [
      "6.295321045169131\n"
     ]
    }
   ],
   "source": [
    "from sklearn.linear_model import PassiveAggressiveClassifier\n",
    "\n",
    "# Create a Passive Aggressive classifier regression model\n",
    "modelPAC = PassiveAggressiveClassifier()\n",
    "\n",
    "# Fit the model to the training data\n",
    "modelPAC.fit(X_train, y_train)\n",
    "\n",
    "# Make predictions on new data\n",
    "predictions = modelPAC.predict(X_test)\n",
    "mseL = mean_squared_error(y_test, predictions)\n",
    "new_row = {'ID': 19, 'Model': 'PassiveAggressiveClassifier', 'Accuracy':mseL}\n",
    "tb['ARDRegrPassiveAggressiveClassifieression'] = mseL\n",
    "print(mseL)"
   ]
  },
  {
   "cell_type": "markdown",
   "id": "meyIGuq3-w6b",
   "metadata": {
    "id": "meyIGuq3-w6b",
    "tags": []
   },
   "source": [
    "## PoissonRegressor"
   ]
  },
  {
   "cell_type": "code",
   "execution_count": 25,
   "id": "H-QQeJWe-xAu",
   "metadata": {
    "id": "H-QQeJWe-xAu"
   },
   "outputs": [
    {
     "name": "stdout",
     "output_type": "stream",
     "text": [
      "7.15210770184293\n"
     ]
    }
   ],
   "source": [
    "from sklearn.linear_model import PoissonRegressor\n",
    "\n",
    "# Create a Poisson regression model\n",
    "modelPR = PoissonRegressor()\n",
    "\n",
    "# Fit the model to the training data\n",
    "modelPR.fit(X_train, y_train)\n",
    "\n",
    "# Make predictions on new data\n",
    "predictions = modelPR.predict(X_test)\n",
    "mseL = mean_squared_error(y_test, predictions)\n",
    "new_row = {'ID': 20, 'Model': 'PoissonRegressor', 'Accuracy':mseL}\n",
    "tb['PoissonRegressor'] = mseL\n",
    "print(mseL)"
   ]
  },
  {
   "cell_type": "markdown",
   "id": "1XFvDLp0-xQD",
   "metadata": {
    "id": "1XFvDLp0-xQD",
    "tags": []
   },
   "source": [
    "## Lars"
   ]
  },
  {
   "cell_type": "code",
   "execution_count": 26,
   "id": "LaPNxpVC-xU5",
   "metadata": {
    "colab": {
     "base_uri": "https://localhost:8080/"
    },
    "id": "LaPNxpVC-xU5",
    "outputId": "20231183-0a89-4830-dacc-3d92a4062e68"
   },
   "outputs": [
    {
     "name": "stdout",
     "output_type": "stream",
     "text": [
      "4.64386877639921\n"
     ]
    }
   ],
   "source": [
    "from sklearn.linear_model import Lars\n",
    "\n",
    "# Create a LARS regression model\n",
    "modelLAR = Lars()\n",
    "\n",
    "# Fit the model to the training data\n",
    "modelLAR.fit(X_train, y_train)\n",
    "\n",
    "# Make predictions on new data\n",
    "predictions = modelLAR.predict(X_test)\n",
    "mseL = mean_squared_error(y_test, predictions)\n",
    "new_row = {'ID': 22, 'Model': 'Lars', 'Accuracy':mseL}\n",
    "tb['Lars'] = mseL\n",
    "print(mseL)"
   ]
  },
  {
   "cell_type": "markdown",
   "id": "GZ4UM6bL-xaH",
   "metadata": {
    "id": "GZ4UM6bL-xaH",
    "tags": []
   },
   "source": [
    "## RidgeCV"
   ]
  },
  {
   "cell_type": "code",
   "execution_count": 27,
   "id": "3pvLtGpm-xfE",
   "metadata": {
    "colab": {
     "base_uri": "https://localhost:8080/"
    },
    "id": "3pvLtGpm-xfE",
    "outputId": "ad0af17c-7cd2-4a96-eaee-f5a4fda02c41"
   },
   "outputs": [
    {
     "name": "stdout",
     "output_type": "stream",
     "text": [
      "4.64402220125446\n"
     ]
    }
   ],
   "source": [
    "from sklearn.linear_model import RidgeCV\n",
    "\n",
    "# Create a RidgeCV regression model\n",
    "modelRC = RidgeCV()\n",
    "\n",
    "# Fit the model to the training data\n",
    "modelRC.fit(X_train, y_train)\n",
    "\n",
    "# Make predictions on new data\n",
    "predictions = modelRC.predict(X_test)\n",
    "mseL = mean_squared_error(y_test, predictions)\n",
    "new_row = {'ID': 23, 'Model': 'RidgeCV', 'Accuracy':mseL}\n",
    "tb['RidgeCV'] = mseL\n",
    "print(mseL)"
   ]
  },
  {
   "cell_type": "markdown",
   "id": "5d26ae12-f956-4e25-a939-5b83f3927220",
   "metadata": {},
   "source": [
    "## Tensorflow"
   ]
  },
  {
   "cell_type": "code",
   "execution_count": 28,
   "id": "883732e5-f066-4025-8600-4316c41da868",
   "metadata": {
    "tags": []
   },
   "outputs": [
    {
     "name": "stdout",
     "output_type": "stream",
     "text": [
      "Epoch 1/200\n",
      "1852/1852 [==============================] - 8s 4ms/step - loss: 10.4357\n",
      "Epoch 2/200\n",
      "1852/1852 [==============================] - 7s 4ms/step - loss: 5.4457\n",
      "Epoch 3/200\n",
      "1852/1852 [==============================] - 6s 3ms/step - loss: 4.8319\n",
      "Epoch 4/200\n",
      "1852/1852 [==============================] - 6s 3ms/step - loss: 4.6468\n",
      "Epoch 5/200\n",
      "1852/1852 [==============================] - 7s 4ms/step - loss: 4.5984\n",
      "Epoch 6/200\n",
      "1852/1852 [==============================] - 7s 4ms/step - loss: 4.5711\n",
      "Epoch 7/200\n",
      "1852/1852 [==============================] - 7s 4ms/step - loss: 4.5491\n",
      "Epoch 8/200\n",
      "1852/1852 [==============================] - 7s 4ms/step - loss: 4.5337\n",
      "Epoch 9/200\n",
      "1852/1852 [==============================] - 7s 4ms/step - loss: 4.5181\n",
      "Epoch 10/200\n",
      "1852/1852 [==============================] - 7s 4ms/step - loss: 4.5083\n",
      "Epoch 11/200\n",
      "1852/1852 [==============================] - 7s 4ms/step - loss: 4.4920\n",
      "Epoch 12/200\n",
      "1852/1852 [==============================] - 7s 4ms/step - loss: 4.4849\n",
      "Epoch 13/200\n",
      "1852/1852 [==============================] - 7s 4ms/step - loss: 4.4693\n",
      "Epoch 14/200\n",
      "1852/1852 [==============================] - 7s 4ms/step - loss: 4.4701\n",
      "Epoch 15/200\n",
      "1852/1852 [==============================] - 7s 4ms/step - loss: 4.4622\n",
      "Epoch 16/200\n",
      "1852/1852 [==============================] - 6s 3ms/step - loss: 4.4573\n",
      "Epoch 17/200\n",
      "1852/1852 [==============================] - 6s 3ms/step - loss: 4.4516\n",
      "Epoch 18/200\n",
      "1852/1852 [==============================] - 7s 4ms/step - loss: 4.4450\n",
      "Epoch 19/200\n",
      "1852/1852 [==============================] - 7s 4ms/step - loss: 4.4405\n",
      "Epoch 20/200\n",
      "1852/1852 [==============================] - 6s 3ms/step - loss: 4.4332\n",
      "Epoch 21/200\n",
      "1852/1852 [==============================] - 6s 3ms/step - loss: 4.4303\n",
      "Epoch 22/200\n",
      "1852/1852 [==============================] - 6s 3ms/step - loss: 4.4293\n",
      "Epoch 23/200\n",
      "1852/1852 [==============================] - 6s 3ms/step - loss: 4.4289\n",
      "Epoch 24/200\n",
      "1852/1852 [==============================] - 6s 3ms/step - loss: 4.4245\n",
      "Epoch 25/200\n",
      "1852/1852 [==============================] - 6s 3ms/step - loss: 4.4216\n",
      "Epoch 26/200\n",
      "1852/1852 [==============================] - 6s 3ms/step - loss: 4.4147\n",
      "Epoch 27/200\n",
      "1852/1852 [==============================] - 7s 4ms/step - loss: 4.4166\n",
      "Epoch 28/200\n",
      "1852/1852 [==============================] - 6s 3ms/step - loss: 4.4151\n",
      "Epoch 29/200\n",
      "1852/1852 [==============================] - 6s 3ms/step - loss: 4.4097\n",
      "Epoch 30/200\n",
      "1852/1852 [==============================] - 6s 3ms/step - loss: 4.4097\n",
      "Epoch 31/200\n",
      "1852/1852 [==============================] - 6s 3ms/step - loss: 4.4094\n",
      "Epoch 32/200\n",
      "1852/1852 [==============================] - 6s 3ms/step - loss: 4.4096\n",
      "Epoch 33/200\n",
      "1852/1852 [==============================] - 6s 3ms/step - loss: 4.4060\n",
      "Epoch 34/200\n",
      "1852/1852 [==============================] - 6s 3ms/step - loss: 4.4039\n",
      "Epoch 35/200\n",
      "1852/1852 [==============================] - 6s 3ms/step - loss: 4.4039\n",
      "Epoch 36/200\n",
      "1852/1852 [==============================] - 6s 3ms/step - loss: 4.4020\n",
      "Epoch 37/200\n",
      "1852/1852 [==============================] - 6s 3ms/step - loss: 4.4007\n",
      "Epoch 38/200\n",
      "1852/1852 [==============================] - 6s 3ms/step - loss: 4.4011\n",
      "Epoch 39/200\n",
      "1852/1852 [==============================] - 6s 3ms/step - loss: 4.3988\n",
      "Epoch 40/200\n",
      "1852/1852 [==============================] - 6s 3ms/step - loss: 4.3977\n",
      "Epoch 41/200\n",
      "1852/1852 [==============================] - 6s 3ms/step - loss: 4.3948\n",
      "Epoch 42/200\n",
      "1852/1852 [==============================] - 6s 3ms/step - loss: 4.3973\n",
      "Epoch 43/200\n",
      "1852/1852 [==============================] - 6s 3ms/step - loss: 4.3961\n",
      "Epoch 44/200\n",
      "1852/1852 [==============================] - 6s 3ms/step - loss: 4.3929\n",
      "Epoch 45/200\n",
      "1852/1852 [==============================] - 6s 3ms/step - loss: 4.3909\n",
      "Epoch 46/200\n",
      "1852/1852 [==============================] - 7s 4ms/step - loss: 4.3952\n",
      "Epoch 47/200\n",
      "1852/1852 [==============================] - 6s 3ms/step - loss: 4.3922\n",
      "Epoch 48/200\n",
      "1852/1852 [==============================] - 5s 3ms/step - loss: 4.3898\n",
      "Epoch 49/200\n",
      "1852/1852 [==============================] - 5s 3ms/step - loss: 4.3894\n",
      "Epoch 50/200\n",
      "1852/1852 [==============================] - 6s 3ms/step - loss: 4.3864\n",
      "Epoch 51/200\n",
      "1852/1852 [==============================] - 6s 3ms/step - loss: 4.3921\n",
      "Epoch 52/200\n",
      "1852/1852 [==============================] - 5s 3ms/step - loss: 4.3893\n",
      "Epoch 53/200\n",
      "1852/1852 [==============================] - 5s 3ms/step - loss: 4.3925\n",
      "Epoch 54/200\n",
      "1852/1852 [==============================] - 6s 3ms/step - loss: 4.3882\n",
      "Epoch 55/200\n",
      "1852/1852 [==============================] - 7s 4ms/step - loss: 4.3846\n",
      "Epoch 56/200\n",
      "1852/1852 [==============================] - 6s 3ms/step - loss: 4.3855\n",
      "Epoch 57/200\n",
      "1852/1852 [==============================] - 6s 3ms/step - loss: 4.3795\n",
      "Epoch 58/200\n",
      "1852/1852 [==============================] - 7s 4ms/step - loss: 4.3912\n",
      "Epoch 59/200\n",
      "1852/1852 [==============================] - 6s 3ms/step - loss: 4.3785\n",
      "Epoch 60/200\n",
      "1852/1852 [==============================] - 6s 3ms/step - loss: 4.3846\n",
      "Epoch 61/200\n",
      "1852/1852 [==============================] - 6s 3ms/step - loss: 4.3791\n",
      "Epoch 62/200\n",
      "1852/1852 [==============================] - 6s 3ms/step - loss: 4.3813\n",
      "Epoch 63/200\n",
      "1852/1852 [==============================] - 6s 3ms/step - loss: 4.3782\n",
      "Epoch 64/200\n",
      "1852/1852 [==============================] - 6s 3ms/step - loss: 4.3831\n",
      "Epoch 65/200\n",
      "1852/1852 [==============================] - 6s 3ms/step - loss: 4.3759\n",
      "Epoch 66/200\n",
      "1852/1852 [==============================] - 5s 3ms/step - loss: 4.3830\n",
      "Epoch 67/200\n",
      "1852/1852 [==============================] - 5s 3ms/step - loss: 4.3769\n",
      "Epoch 68/200\n",
      "1852/1852 [==============================] - 5s 3ms/step - loss: 4.3799\n",
      "Epoch 69/200\n",
      "1852/1852 [==============================] - 6s 3ms/step - loss: 4.3746\n",
      "Epoch 70/200\n",
      "1852/1852 [==============================] - 6s 3ms/step - loss: 4.3732\n",
      "Epoch 71/200\n",
      "1852/1852 [==============================] - 7s 4ms/step - loss: 4.3824\n",
      "Epoch 72/200\n",
      "1852/1852 [==============================] - 6s 3ms/step - loss: 4.3711\n",
      "Epoch 73/200\n",
      "1852/1852 [==============================] - 7s 4ms/step - loss: 4.3731\n",
      "Epoch 74/200\n",
      "1852/1852 [==============================] - 7s 4ms/step - loss: 4.3765\n",
      "Epoch 75/200\n",
      "1852/1852 [==============================] - 7s 4ms/step - loss: 4.3764\n",
      "Epoch 76/200\n",
      "1852/1852 [==============================] - 7s 4ms/step - loss: 4.3720\n",
      "Epoch 77/200\n",
      "1852/1852 [==============================] - 6s 3ms/step - loss: 4.3700\n",
      "Epoch 78/200\n",
      "1852/1852 [==============================] - 7s 4ms/step - loss: 4.3764\n",
      "Epoch 79/200\n",
      "1852/1852 [==============================] - 6s 3ms/step - loss: 4.3723\n",
      "Epoch 80/200\n",
      "1852/1852 [==============================] - 7s 4ms/step - loss: 4.3661\n",
      "Epoch 81/200\n",
      "1852/1852 [==============================] - 7s 4ms/step - loss: 4.3734\n",
      "Epoch 82/200\n",
      "1852/1852 [==============================] - 7s 4ms/step - loss: 4.3679\n",
      "Epoch 83/200\n",
      "1852/1852 [==============================] - 6s 3ms/step - loss: 4.3657\n",
      "Epoch 84/200\n",
      "1852/1852 [==============================] - 6s 3ms/step - loss: 4.3716\n",
      "Epoch 85/200\n",
      "1852/1852 [==============================] - 6s 3ms/step - loss: 4.3649\n",
      "Epoch 86/200\n",
      "1852/1852 [==============================] - 6s 3ms/step - loss: 4.3676\n",
      "Epoch 87/200\n",
      "1852/1852 [==============================] - 6s 3ms/step - loss: 4.3646\n",
      "Epoch 88/200\n",
      "1852/1852 [==============================] - 6s 3ms/step - loss: 4.3671\n",
      "Epoch 89/200\n",
      "1852/1852 [==============================] - 7s 4ms/step - loss: 4.3655\n",
      "Epoch 90/200\n",
      "1852/1852 [==============================] - 6s 3ms/step - loss: 4.3590\n",
      "Epoch 91/200\n",
      "1852/1852 [==============================] - 6s 3ms/step - loss: 4.3599\n",
      "Epoch 92/200\n",
      "1852/1852 [==============================] - 6s 3ms/step - loss: 4.3502\n",
      "Epoch 93/200\n",
      "1852/1852 [==============================] - 6s 3ms/step - loss: 4.3523\n",
      "Epoch 94/200\n",
      "1852/1852 [==============================] - 6s 3ms/step - loss: 4.3380\n",
      "Epoch 95/200\n",
      "1852/1852 [==============================] - 6s 3ms/step - loss: 4.3401\n",
      "Epoch 96/200\n",
      "1852/1852 [==============================] - 6s 3ms/step - loss: 4.3320\n",
      "Epoch 97/200\n",
      "1852/1852 [==============================] - 6s 3ms/step - loss: 4.3304\n",
      "Epoch 98/200\n",
      "1852/1852 [==============================] - 6s 3ms/step - loss: 4.3261\n",
      "Epoch 99/200\n",
      "1852/1852 [==============================] - 6s 3ms/step - loss: 4.3248\n",
      "Epoch 100/200\n",
      "1852/1852 [==============================] - 6s 3ms/step - loss: 4.3179\n",
      "Epoch 101/200\n",
      "1852/1852 [==============================] - 6s 3ms/step - loss: 4.3148\n",
      "Epoch 102/200\n",
      "1852/1852 [==============================] - 6s 3ms/step - loss: 4.3134\n",
      "Epoch 103/200\n",
      "1852/1852 [==============================] - 6s 3ms/step - loss: 4.3127\n",
      "Epoch 104/200\n",
      "1852/1852 [==============================] - 5s 3ms/step - loss: 4.3137\n",
      "Epoch 105/200\n",
      "1852/1852 [==============================] - 5s 3ms/step - loss: 4.3102\n",
      "Epoch 106/200\n",
      "1852/1852 [==============================] - 6s 3ms/step - loss: 4.3038\n",
      "Epoch 107/200\n",
      "1852/1852 [==============================] - 6s 3ms/step - loss: 4.3069\n",
      "Epoch 108/200\n",
      "1852/1852 [==============================] - 6s 3ms/step - loss: 4.3031\n",
      "Epoch 109/200\n",
      "1852/1852 [==============================] - 6s 3ms/step - loss: 4.3024\n",
      "Epoch 110/200\n",
      "1852/1852 [==============================] - 6s 3ms/step - loss: 4.3001\n",
      "Epoch 111/200\n",
      "1852/1852 [==============================] - 6s 3ms/step - loss: 4.2960\n",
      "Epoch 112/200\n",
      "1852/1852 [==============================] - 6s 3ms/step - loss: 4.2973\n",
      "Epoch 113/200\n",
      "1852/1852 [==============================] - 6s 3ms/step - loss: 4.3008\n",
      "Epoch 114/200\n",
      "1852/1852 [==============================] - 6s 3ms/step - loss: 4.2970\n",
      "Epoch 115/200\n",
      "1852/1852 [==============================] - 6s 3ms/step - loss: 4.2951\n",
      "Epoch 116/200\n",
      "1852/1852 [==============================] - 6s 3ms/step - loss: 4.2956\n",
      "Epoch 117/200\n",
      "1852/1852 [==============================] - 6s 3ms/step - loss: 4.2974\n",
      "Epoch 118/200\n",
      "1852/1852 [==============================] - 7s 4ms/step - loss: 4.2927\n",
      "Epoch 119/200\n",
      "1852/1852 [==============================] - 6s 3ms/step - loss: 4.2895\n",
      "Epoch 120/200\n",
      "1852/1852 [==============================] - 6s 3ms/step - loss: 4.2961\n",
      "Epoch 121/200\n",
      "1852/1852 [==============================] - 6s 3ms/step - loss: 4.2898\n",
      "Epoch 122/200\n",
      "1852/1852 [==============================] - 6s 3ms/step - loss: 4.2881\n",
      "Epoch 123/200\n",
      "1852/1852 [==============================] - 6s 3ms/step - loss: 4.2935\n",
      "Epoch 124/200\n",
      "1852/1852 [==============================] - 6s 3ms/step - loss: 4.2860\n",
      "Epoch 125/200\n",
      "1852/1852 [==============================] - 6s 3ms/step - loss: 4.2955\n",
      "Epoch 126/200\n",
      "1852/1852 [==============================] - 7s 4ms/step - loss: 4.2947\n",
      "Epoch 127/200\n",
      "1852/1852 [==============================] - 8s 4ms/step - loss: 4.2879\n",
      "Epoch 128/200\n",
      "1852/1852 [==============================] - 7s 4ms/step - loss: 4.2944\n",
      "Epoch 129/200\n",
      "1852/1852 [==============================] - 6s 3ms/step - loss: 4.2900\n",
      "Epoch 130/200\n",
      "1852/1852 [==============================] - 6s 3ms/step - loss: 4.2893\n",
      "Epoch 131/200\n",
      "1852/1852 [==============================] - 6s 3ms/step - loss: 4.2881\n",
      "Epoch 132/200\n",
      "1852/1852 [==============================] - 6s 3ms/step - loss: 4.2825\n",
      "Epoch 133/200\n",
      "1852/1852 [==============================] - 6s 3ms/step - loss: 4.2897\n",
      "Epoch 134/200\n",
      "1852/1852 [==============================] - 7s 4ms/step - loss: 4.2847\n",
      "Epoch 135/200\n",
      "1852/1852 [==============================] - 7s 4ms/step - loss: 4.2824\n",
      "Epoch 136/200\n",
      "1852/1852 [==============================] - 6s 3ms/step - loss: 4.2886\n",
      "Epoch 137/200\n",
      "1852/1852 [==============================] - 8s 4ms/step - loss: 4.2843\n",
      "Epoch 138/200\n",
      "1852/1852 [==============================] - 8s 4ms/step - loss: 4.2824\n",
      "Epoch 139/200\n",
      "1852/1852 [==============================] - 8s 4ms/step - loss: 4.2852\n",
      "Epoch 140/200\n",
      "1852/1852 [==============================] - 8s 4ms/step - loss: 4.2848\n",
      "Epoch 141/200\n",
      "1852/1852 [==============================] - 8s 4ms/step - loss: 4.2872\n",
      "Epoch 142/200\n",
      "1852/1852 [==============================] - 8s 4ms/step - loss: 4.2833\n",
      "Epoch 143/200\n",
      "1852/1852 [==============================] - 7s 4ms/step - loss: 4.2791\n",
      "Epoch 144/200\n",
      "1852/1852 [==============================] - 7s 4ms/step - loss: 4.2824\n",
      "Epoch 145/200\n",
      "1852/1852 [==============================] - 7s 4ms/step - loss: 4.2856\n",
      "Epoch 146/200\n",
      "1852/1852 [==============================] - 7s 4ms/step - loss: 4.2829\n",
      "Epoch 147/200\n",
      "1852/1852 [==============================] - 6s 3ms/step - loss: 4.2901\n",
      "Epoch 148/200\n",
      "1852/1852 [==============================] - 6s 3ms/step - loss: 4.2839\n",
      "Epoch 149/200\n",
      "1852/1852 [==============================] - 6s 3ms/step - loss: 4.2764\n",
      "Epoch 150/200\n",
      "1852/1852 [==============================] - 6s 3ms/step - loss: 4.2865\n",
      "Epoch 151/200\n",
      "1852/1852 [==============================] - 7s 4ms/step - loss: 4.2769\n",
      "Epoch 152/200\n",
      "1852/1852 [==============================] - 7s 4ms/step - loss: 4.2767\n",
      "Epoch 153/200\n",
      "1852/1852 [==============================] - 7s 4ms/step - loss: 4.2811\n",
      "Epoch 154/200\n",
      "1852/1852 [==============================] - 7s 4ms/step - loss: 4.2799\n",
      "Epoch 155/200\n",
      "1852/1852 [==============================] - 7s 4ms/step - loss: 4.2828\n",
      "Epoch 156/200\n",
      "1852/1852 [==============================] - 7s 4ms/step - loss: 4.2861\n",
      "Epoch 157/200\n",
      "1852/1852 [==============================] - 7s 4ms/step - loss: 4.2833\n",
      "Epoch 158/200\n",
      "1852/1852 [==============================] - 7s 4ms/step - loss: 4.2760\n",
      "Epoch 159/200\n",
      "1852/1852 [==============================] - 7s 4ms/step - loss: 4.2790\n",
      "Epoch 160/200\n",
      "1852/1852 [==============================] - 7s 4ms/step - loss: 4.2808\n",
      "Epoch 161/200\n",
      "1852/1852 [==============================] - 7s 4ms/step - loss: 4.2814\n",
      "Epoch 162/200\n",
      "1852/1852 [==============================] - 7s 4ms/step - loss: 4.2808\n",
      "Epoch 163/200\n",
      "1852/1852 [==============================] - 7s 4ms/step - loss: 4.2818\n",
      "Epoch 164/200\n",
      "1852/1852 [==============================] - 7s 4ms/step - loss: 4.2807\n",
      "Epoch 165/200\n",
      "1852/1852 [==============================] - 7s 4ms/step - loss: 4.2749\n",
      "Epoch 166/200\n",
      "1852/1852 [==============================] - 7s 4ms/step - loss: 4.2802\n",
      "Epoch 167/200\n",
      "1852/1852 [==============================] - 7s 4ms/step - loss: 4.2715\n",
      "Epoch 168/200\n",
      "1852/1852 [==============================] - 7s 4ms/step - loss: 4.2774\n",
      "Epoch 169/200\n",
      "1852/1852 [==============================] - 7s 4ms/step - loss: 4.2768\n",
      "Epoch 170/200\n",
      "1852/1852 [==============================] - 7s 4ms/step - loss: 4.2737\n",
      "Epoch 171/200\n",
      "1852/1852 [==============================] - 7s 4ms/step - loss: 4.2723\n",
      "Epoch 172/200\n",
      "1852/1852 [==============================] - 7s 4ms/step - loss: 4.2743\n",
      "Epoch 173/200\n",
      "1852/1852 [==============================] - 7s 4ms/step - loss: 4.2732\n",
      "Epoch 174/200\n",
      "1852/1852 [==============================] - 7s 4ms/step - loss: 4.2823\n",
      "Epoch 175/200\n",
      "1852/1852 [==============================] - 7s 4ms/step - loss: 4.2745\n",
      "Epoch 176/200\n",
      "1852/1852 [==============================] - 7s 4ms/step - loss: 4.2786\n",
      "Epoch 177/200\n",
      "1852/1852 [==============================] - 7s 4ms/step - loss: 4.2738\n",
      "Epoch 178/200\n",
      "1852/1852 [==============================] - 7s 4ms/step - loss: 4.2746\n",
      "Epoch 179/200\n",
      "1852/1852 [==============================] - 7s 4ms/step - loss: 4.2736\n",
      "Epoch 180/200\n",
      "1852/1852 [==============================] - 7s 4ms/step - loss: 4.2732\n",
      "Epoch 181/200\n",
      "1852/1852 [==============================] - 7s 4ms/step - loss: 4.2702\n",
      "Epoch 182/200\n",
      "1852/1852 [==============================] - 7s 4ms/step - loss: 4.2750\n",
      "Epoch 183/200\n",
      "1852/1852 [==============================] - 7s 4ms/step - loss: 4.2744\n",
      "Epoch 184/200\n",
      "1852/1852 [==============================] - 7s 4ms/step - loss: 4.2722\n",
      "Epoch 185/200\n",
      "1852/1852 [==============================] - 7s 4ms/step - loss: 4.2730\n",
      "Epoch 186/200\n",
      "1852/1852 [==============================] - 7s 4ms/step - loss: 4.2737\n",
      "Epoch 187/200\n",
      "1852/1852 [==============================] - 7s 4ms/step - loss: 4.2782\n",
      "Epoch 188/200\n",
      "1852/1852 [==============================] - 7s 4ms/step - loss: 4.2723\n",
      "Epoch 189/200\n",
      "1852/1852 [==============================] - 7s 4ms/step - loss: 4.2744\n",
      "Epoch 190/200\n",
      "1852/1852 [==============================] - 7s 4ms/step - loss: 4.2810\n",
      "Epoch 191/200\n",
      "1852/1852 [==============================] - 7s 4ms/step - loss: 4.2736\n",
      "Epoch 192/200\n",
      "1852/1852 [==============================] - 7s 4ms/step - loss: 4.2765\n",
      "Epoch 193/200\n",
      "1852/1852 [==============================] - 7s 4ms/step - loss: 4.2726\n",
      "Epoch 194/200\n",
      "1852/1852 [==============================] - 7s 4ms/step - loss: 4.2670\n",
      "Epoch 195/200\n",
      "1852/1852 [==============================] - 6s 3ms/step - loss: 4.2746\n",
      "Epoch 196/200\n",
      "1852/1852 [==============================] - 6s 3ms/step - loss: 4.2702\n",
      "Epoch 197/200\n",
      "1852/1852 [==============================] - 6s 3ms/step - loss: 4.2712\n",
      "Epoch 198/200\n",
      "1852/1852 [==============================] - 6s 3ms/step - loss: 4.2724\n",
      "Epoch 199/200\n",
      "1852/1852 [==============================] - 6s 3ms/step - loss: 4.2741\n",
      "Epoch 200/200\n",
      "1852/1852 [==============================] - 7s 4ms/step - loss: 4.2687\n",
      "463/463 [==============================] - 1s 2ms/step\n",
      "Mean Squared Error: 4.23765857209698\n"
     ]
    }
   ],
   "source": [
    "import tensorflow as tf\n",
    "from tensorflow import keras\n",
    "\n",
    "# Prepare your data (X_train, y_train, X_test, y_test)\n",
    "\n",
    "# Build your regression model\n",
    "model = keras.Sequential([\n",
    "   \n",
    "    keras.layers.Dense(64, activation='relu', input_shape=(8,)),\n",
    "    keras.layers.Dense(1)\n",
    "])\n",
    "\n",
    "model.compile(loss='mean_squared_error', optimizer='adam')\n",
    "\n",
    "# Train your model\n",
    "model.fit(X_train, y_train, epochs=200, batch_size=32,verbose = 1)\n",
    "\n",
    "# Evaluate your model\n",
    "predictions = model.predict(X_test)\n",
    "mse = mean_squared_error(y_test, predictions)\n",
    "tb['TF64:150'] = mse\n",
    "print(\"Mean Squared Error:\", mse)\n"
   ]
  },
  {
   "cell_type": "code",
   "execution_count": 29,
   "id": "b3a7c9fd-ce84-480b-b02d-73ebc5892dd3",
   "metadata": {},
   "outputs": [
    {
     "name": "stdout",
     "output_type": "stream",
     "text": [
      "Mean Squared Error: 4.23765857209698\n"
     ]
    }
   ],
   "source": [
    "print(\"Mean Squared Error:\", mse)"
   ]
  },
  {
   "cell_type": "code",
   "execution_count": 30,
   "id": "a5065aba-a05d-42e4-9cd2-9714cbca747f",
   "metadata": {
    "tags": []
   },
   "outputs": [
    {
     "name": "stdout",
     "output_type": "stream",
     "text": [
      "Epoch 1/100\n",
      "1852/1852 [==============================] - 7s 3ms/step - loss: 10.1779\n",
      "Epoch 2/100\n",
      "1852/1852 [==============================] - 6s 3ms/step - loss: 5.1146\n",
      "Epoch 3/100\n",
      "1852/1852 [==============================] - 6s 3ms/step - loss: 4.6559\n",
      "Epoch 4/100\n",
      "1852/1852 [==============================] - 7s 4ms/step - loss: 4.5597\n",
      "Epoch 5/100\n",
      "1852/1852 [==============================] - 6s 3ms/step - loss: 4.5256\n",
      "Epoch 6/100\n",
      "1852/1852 [==============================] - 6s 3ms/step - loss: 4.4956\n",
      "Epoch 7/100\n",
      "1852/1852 [==============================] - 6s 3ms/step - loss: 4.4713\n",
      "Epoch 8/100\n",
      "1852/1852 [==============================] - 6s 3ms/step - loss: 4.4532\n",
      "Epoch 9/100\n",
      "1852/1852 [==============================] - 7s 4ms/step - loss: 4.4296\n",
      "Epoch 10/100\n",
      "1852/1852 [==============================] - 7s 4ms/step - loss: 4.4176\n",
      "Epoch 11/100\n",
      "1852/1852 [==============================] - 6s 3ms/step - loss: 4.3953\n",
      "Epoch 12/100\n",
      "1852/1852 [==============================] - 6s 3ms/step - loss: 4.3854\n",
      "Epoch 13/100\n",
      "1852/1852 [==============================] - 6s 3ms/step - loss: 4.3818\n",
      "Epoch 14/100\n",
      "1852/1852 [==============================] - 6s 3ms/step - loss: 4.3611\n",
      "Epoch 15/100\n",
      "1852/1852 [==============================] - 6s 3ms/step - loss: 4.3605\n",
      "Epoch 16/100\n",
      "1852/1852 [==============================] - 6s 3ms/step - loss: 4.3569\n",
      "Epoch 17/100\n",
      "1852/1852 [==============================] - 6s 3ms/step - loss: 4.3496\n",
      "Epoch 18/100\n",
      "1852/1852 [==============================] - 6s 3ms/step - loss: 4.3338\n",
      "Epoch 19/100\n",
      "1852/1852 [==============================] - 6s 3ms/step - loss: 4.3365\n",
      "Epoch 20/100\n",
      "1852/1852 [==============================] - 6s 3ms/step - loss: 4.3292\n",
      "Epoch 21/100\n",
      "1852/1852 [==============================] - 6s 3ms/step - loss: 4.3305\n",
      "Epoch 22/100\n",
      "1852/1852 [==============================] - 6s 3ms/step - loss: 4.3308\n",
      "Epoch 23/100\n",
      "1852/1852 [==============================] - 6s 3ms/step - loss: 4.3311\n",
      "Epoch 24/100\n",
      "1852/1852 [==============================] - 6s 3ms/step - loss: 4.3205\n",
      "Epoch 25/100\n",
      "1852/1852 [==============================] - 6s 3ms/step - loss: 4.3254\n",
      "Epoch 26/100\n",
      "1852/1852 [==============================] - 6s 3ms/step - loss: 4.3113\n",
      "Epoch 27/100\n",
      "1852/1852 [==============================] - 6s 3ms/step - loss: 4.3146\n",
      "Epoch 28/100\n",
      "1852/1852 [==============================] - 6s 3ms/step - loss: 4.3161\n",
      "Epoch 29/100\n",
      "1852/1852 [==============================] - 6s 3ms/step - loss: 4.3153\n",
      "Epoch 30/100\n",
      "1852/1852 [==============================] - 7s 4ms/step - loss: 4.3116\n",
      "Epoch 31/100\n",
      "1852/1852 [==============================] - 7s 4ms/step - loss: 4.3068\n",
      "Epoch 32/100\n",
      "1852/1852 [==============================] - 7s 4ms/step - loss: 4.3110\n",
      "Epoch 33/100\n",
      "1852/1852 [==============================] - 8s 4ms/step - loss: 4.3056\n",
      "Epoch 34/100\n",
      "1852/1852 [==============================] - 7s 4ms/step - loss: 4.3075\n",
      "Epoch 35/100\n",
      "1852/1852 [==============================] - 7s 4ms/step - loss: 4.3054\n",
      "Epoch 36/100\n",
      "1852/1852 [==============================] - 7s 4ms/step - loss: 4.3050\n",
      "Epoch 37/100\n",
      "1852/1852 [==============================] - 7s 4ms/step - loss: 4.3038\n",
      "Epoch 38/100\n",
      "1852/1852 [==============================] - 7s 4ms/step - loss: 4.3024\n",
      "Epoch 39/100\n",
      "1852/1852 [==============================] - 7s 4ms/step - loss: 4.2989\n",
      "Epoch 40/100\n",
      "1852/1852 [==============================] - 7s 4ms/step - loss: 4.3028\n",
      "Epoch 41/100\n",
      "1852/1852 [==============================] - 7s 4ms/step - loss: 4.2986\n",
      "Epoch 42/100\n",
      "1852/1852 [==============================] - 7s 4ms/step - loss: 4.3021\n",
      "Epoch 43/100\n",
      "1852/1852 [==============================] - 7s 4ms/step - loss: 4.2920\n",
      "Epoch 44/100\n",
      "1852/1852 [==============================] - 7s 4ms/step - loss: 4.2976\n",
      "Epoch 45/100\n",
      "1852/1852 [==============================] - 7s 4ms/step - loss: 4.2941\n",
      "Epoch 46/100\n",
      "1852/1852 [==============================] - 7s 4ms/step - loss: 4.2921\n",
      "Epoch 47/100\n",
      "1852/1852 [==============================] - 7s 4ms/step - loss: 4.2939\n",
      "Epoch 48/100\n",
      "1852/1852 [==============================] - 6s 3ms/step - loss: 4.2908\n",
      "Epoch 49/100\n",
      "1852/1852 [==============================] - 6s 3ms/step - loss: 4.2893\n",
      "Epoch 50/100\n",
      "1852/1852 [==============================] - 6s 3ms/step - loss: 4.2946\n",
      "Epoch 51/100\n",
      "1852/1852 [==============================] - 6s 3ms/step - loss: 4.2890\n",
      "Epoch 52/100\n",
      "1852/1852 [==============================] - 6s 3ms/step - loss: 4.2800\n",
      "Epoch 53/100\n",
      "1852/1852 [==============================] - 6s 3ms/step - loss: 4.2902\n",
      "Epoch 54/100\n",
      "1852/1852 [==============================] - 6s 3ms/step - loss: 4.2881\n",
      "Epoch 55/100\n",
      "1852/1852 [==============================] - 6s 3ms/step - loss: 4.2943\n",
      "Epoch 56/100\n",
      "1852/1852 [==============================] - 6s 3ms/step - loss: 4.2880\n",
      "Epoch 57/100\n",
      "1852/1852 [==============================] - 6s 3ms/step - loss: 4.2865\n",
      "Epoch 58/100\n",
      "1852/1852 [==============================] - 6s 3ms/step - loss: 4.2873\n",
      "Epoch 59/100\n",
      "1852/1852 [==============================] - 6s 3ms/step - loss: 4.2915\n",
      "Epoch 60/100\n",
      "1852/1852 [==============================] - 6s 3ms/step - loss: 4.2820\n",
      "Epoch 61/100\n",
      "1852/1852 [==============================] - 6s 3ms/step - loss: 4.2860\n",
      "Epoch 62/100\n",
      "1852/1852 [==============================] - 6s 3ms/step - loss: 4.2877\n",
      "Epoch 63/100\n",
      "1852/1852 [==============================] - 7s 4ms/step - loss: 4.2822\n",
      "Epoch 64/100\n",
      "1852/1852 [==============================] - 6s 3ms/step - loss: 4.2825\n",
      "Epoch 65/100\n",
      "1852/1852 [==============================] - 6s 3ms/step - loss: 4.2820\n",
      "Epoch 66/100\n",
      "1852/1852 [==============================] - 6s 3ms/step - loss: 4.2855\n",
      "Epoch 67/100\n",
      "1852/1852 [==============================] - 6s 3ms/step - loss: 4.2847\n",
      "Epoch 68/100\n",
      "1852/1852 [==============================] - 6s 3ms/step - loss: 4.2876\n",
      "Epoch 69/100\n",
      "1852/1852 [==============================] - 6s 3ms/step - loss: 4.2779\n",
      "Epoch 70/100\n",
      "1852/1852 [==============================] - 6s 3ms/step - loss: 4.2821\n",
      "Epoch 71/100\n",
      "1852/1852 [==============================] - 7s 4ms/step - loss: 4.2749\n",
      "Epoch 72/100\n",
      "1852/1852 [==============================] - 7s 4ms/step - loss: 4.2768\n",
      "Epoch 73/100\n",
      "1852/1852 [==============================] - 6s 3ms/step - loss: 4.2763\n",
      "Epoch 74/100\n",
      "1852/1852 [==============================] - 7s 4ms/step - loss: 4.2756\n",
      "Epoch 75/100\n",
      "1852/1852 [==============================] - 8s 4ms/step - loss: 4.2737\n",
      "Epoch 76/100\n",
      "1852/1852 [==============================] - 8s 4ms/step - loss: 4.2758\n",
      "Epoch 77/100\n",
      "1852/1852 [==============================] - 8s 4ms/step - loss: 4.2727\n",
      "Epoch 78/100\n",
      "1852/1852 [==============================] - 8s 4ms/step - loss: 4.2777\n",
      "Epoch 79/100\n",
      "1852/1852 [==============================] - 8s 4ms/step - loss: 4.2767\n",
      "Epoch 80/100\n",
      "1852/1852 [==============================] - 7s 4ms/step - loss: 4.2749\n",
      "Epoch 81/100\n",
      "1852/1852 [==============================] - 8s 4ms/step - loss: 4.2700\n",
      "Epoch 82/100\n",
      "1852/1852 [==============================] - 8s 4ms/step - loss: 4.2732\n",
      "Epoch 83/100\n",
      "1852/1852 [==============================] - 8s 4ms/step - loss: 4.2744\n",
      "Epoch 84/100\n",
      "1852/1852 [==============================] - 6s 3ms/step - loss: 4.2723\n",
      "Epoch 85/100\n",
      "1852/1852 [==============================] - 5s 3ms/step - loss: 4.2723\n",
      "Epoch 86/100\n",
      "1852/1852 [==============================] - 5s 3ms/step - loss: 4.2710\n",
      "Epoch 87/100\n",
      "1852/1852 [==============================] - 5s 3ms/step - loss: 4.2756\n",
      "Epoch 88/100\n",
      "1852/1852 [==============================] - 5s 3ms/step - loss: 4.2706\n",
      "Epoch 89/100\n",
      "1852/1852 [==============================] - 5s 3ms/step - loss: 4.2723\n",
      "Epoch 90/100\n",
      "1852/1852 [==============================] - 5s 3ms/step - loss: 4.2671\n",
      "Epoch 91/100\n",
      "1852/1852 [==============================] - 5s 3ms/step - loss: 4.2686\n",
      "Epoch 92/100\n",
      "1852/1852 [==============================] - 5s 3ms/step - loss: 4.2728\n",
      "Epoch 93/100\n",
      "1852/1852 [==============================] - 6s 3ms/step - loss: 4.2717\n",
      "Epoch 94/100\n",
      "1852/1852 [==============================] - 5s 3ms/step - loss: 4.2771\n",
      "Epoch 95/100\n",
      "1852/1852 [==============================] - 6s 3ms/step - loss: 4.2696\n",
      "Epoch 96/100\n",
      "1852/1852 [==============================] - 6s 3ms/step - loss: 4.2657\n",
      "Epoch 97/100\n",
      "1852/1852 [==============================] - 6s 3ms/step - loss: 4.2697\n",
      "Epoch 98/100\n",
      "1852/1852 [==============================] - 6s 3ms/step - loss: 4.2657\n",
      "Epoch 99/100\n",
      "1852/1852 [==============================] - 6s 3ms/step - loss: 4.2679\n",
      "Epoch 100/100\n",
      "1852/1852 [==============================] - 6s 3ms/step - loss: 4.2668\n",
      "463/463 [==============================] - 1s 2ms/step\n",
      "Mean Squared Error: 4.2687707529963195\n"
     ]
    }
   ],
   "source": [
    "import tensorflow as tf\n",
    "from tensorflow import keras\n",
    "\n",
    "# Prepare your data (X_train, y_train, X_test, y_test)\n",
    "\n",
    "# Build your regression model\n",
    "model1 = keras.Sequential([\n",
    "   \n",
    "    keras.layers.Dense(128, activation='relu', input_shape=(8,)),\n",
    "    keras.layers.Dense(1)\n",
    "])\n",
    "\n",
    "model1.compile(loss='mean_squared_error', optimizer='adam')\n",
    "\n",
    "# Train your model\n",
    "history = model1.fit(X_train, y_train, epochs=100,verbose = 1)\n",
    "\n",
    "# Evaluate your model\n",
    "predictions = model1.predict(X_test)\n",
    "mse = mean_squared_error(y_test, predictions)\n",
    "tb[ 'Tensor128:50'] = mse\n",
    "print(\"Mean Squared Error:\", mse)"
   ]
  },
  {
   "cell_type": "code",
   "execution_count": 31,
   "id": "ebd5de68-a726-4818-81fb-327f4ef5a590",
   "metadata": {},
   "outputs": [
    {
     "data": {
      "image/png": "[encoded data removed]",
      "text/plain": [
       "<Figure size 640x480 with 1 Axes>"
      ]
     },
     "metadata": {},
     "output_type": "display_data"
    }
   ],
   "source": [
    "import matplotlib.pyplot as plt\n",
    "plt.plot(history.history['loss'])\n",
    "plt.title('Model Loss')\n",
    "plt.xlabel('Epoch')\n",
    "plt.ylabel('Loss')\n",
    "plt.show()\n"
   ]
  },
  {
   "cell_type": "code",
   "execution_count": 36,
   "id": "470e4c05-a4f2-480b-a5a7-df67a42f1f75",
   "metadata": {
    "collapsed": true,
    "jupyter": {
     "outputs_hidden": true
    },
    "tags": []
   },
   "outputs": [
    {
     "name": "stdout",
     "output_type": "stream",
     "text": [
      "Epoch 1/100\n",
      "1852/1852 [==============================] - 7s 4ms/step - loss: 12.8534\n",
      "Epoch 2/100\n",
      "1852/1852 [==============================] - 7s 4ms/step - loss: 5.6070\n",
      "Epoch 3/100\n",
      "1852/1852 [==============================] - 8s 4ms/step - loss: 5.0835\n",
      "Epoch 4/100\n",
      "1852/1852 [==============================] - 7s 4ms/step - loss: 4.7791\n",
      "Epoch 5/100\n",
      "1852/1852 [==============================] - 6s 3ms/step - loss: 4.6812\n",
      "Epoch 6/100\n",
      "1852/1852 [==============================] - 6s 3ms/step - loss: 4.6488\n",
      "Epoch 7/100\n",
      "1852/1852 [==============================] - 6s 3ms/step - loss: 4.6343\n",
      "Epoch 8/100\n",
      "1852/1852 [==============================] - 7s 4ms/step - loss: 4.6179\n",
      "Epoch 9/100\n",
      "1852/1852 [==============================] - 8s 4ms/step - loss: 4.6050\n",
      "Epoch 10/100\n",
      "1852/1852 [==============================] - 6s 4ms/step - loss: 4.5924\n",
      "Epoch 11/100\n",
      "1852/1852 [==============================] - 8s 4ms/step - loss: 4.5846\n",
      "Epoch 12/100\n",
      "1852/1852 [==============================] - 7s 4ms/step - loss: 4.5798\n",
      "Epoch 13/100\n",
      "1852/1852 [==============================] - 6s 3ms/step - loss: 4.5672\n",
      "Epoch 14/100\n",
      "1852/1852 [==============================] - 6s 3ms/step - loss: 4.5629\n",
      "Epoch 15/100\n",
      "1852/1852 [==============================] - 6s 3ms/step - loss: 4.5582\n",
      "Epoch 16/100\n",
      "1852/1852 [==============================] - 7s 4ms/step - loss: 4.5491\n",
      "Epoch 17/100\n",
      "1852/1852 [==============================] - 7s 4ms/step - loss: 4.5449\n",
      "Epoch 18/100\n",
      "1852/1852 [==============================] - 6s 3ms/step - loss: 4.5416\n",
      "Epoch 19/100\n",
      "1852/1852 [==============================] - 6s 3ms/step - loss: 4.5325\n",
      "Epoch 20/100\n",
      "1852/1852 [==============================] - 6s 3ms/step - loss: 4.5286\n",
      "Epoch 21/100\n",
      "1852/1852 [==============================] - 6s 3ms/step - loss: 4.5232\n",
      "Epoch 22/100\n",
      "1852/1852 [==============================] - 6s 3ms/step - loss: 4.5168\n",
      "Epoch 23/100\n",
      "1852/1852 [==============================] - 6s 3ms/step - loss: 4.5086\n",
      "Epoch 24/100\n",
      "1852/1852 [==============================] - 6s 3ms/step - loss: 4.4988\n",
      "Epoch 25/100\n",
      "1852/1852 [==============================] - 6s 3ms/step - loss: 4.4921\n",
      "Epoch 26/100\n",
      "1852/1852 [==============================] - 6s 3ms/step - loss: 4.4859\n",
      "Epoch 27/100\n",
      "1852/1852 [==============================] - 6s 3ms/step - loss: 4.4801\n",
      "Epoch 28/100\n",
      "1852/1852 [==============================] - 6s 3ms/step - loss: 4.4691\n",
      "Epoch 29/100\n",
      "1852/1852 [==============================] - 6s 3ms/step - loss: 4.4680\n",
      "Epoch 30/100\n",
      "1852/1852 [==============================] - 6s 3ms/step - loss: 4.4624\n",
      "Epoch 31/100\n",
      "1852/1852 [==============================] - 5s 3ms/step - loss: 4.4519\n",
      "Epoch 32/100\n",
      "1852/1852 [==============================] - 6s 3ms/step - loss: 4.4467\n",
      "Epoch 33/100\n",
      "1852/1852 [==============================] - 5s 3ms/step - loss: 4.4445\n",
      "Epoch 34/100\n",
      "1852/1852 [==============================] - 6s 3ms/step - loss: 4.4350\n",
      "Epoch 35/100\n",
      "1852/1852 [==============================] - 6s 3ms/step - loss: 4.4326\n",
      "Epoch 36/100\n",
      "1852/1852 [==============================] - 6s 3ms/step - loss: 4.4323\n",
      "Epoch 37/100\n",
      "1852/1852 [==============================] - 6s 3ms/step - loss: 4.4263\n",
      "Epoch 38/100\n",
      "1852/1852 [==============================] - 6s 3ms/step - loss: 4.4214\n",
      "Epoch 39/100\n",
      "1852/1852 [==============================] - 6s 3ms/step - loss: 4.4168\n",
      "Epoch 40/100\n",
      "1852/1852 [==============================] - 7s 4ms/step - loss: 4.4168\n",
      "Epoch 41/100\n",
      "1852/1852 [==============================] - 6s 3ms/step - loss: 4.4138\n",
      "Epoch 42/100\n",
      "1852/1852 [==============================] - 6s 3ms/step - loss: 4.4099\n",
      "Epoch 43/100\n",
      "1852/1852 [==============================] - 6s 3ms/step - loss: 4.4093\n",
      "Epoch 44/100\n",
      "1852/1852 [==============================] - 6s 3ms/step - loss: 4.4115\n",
      "Epoch 45/100\n",
      "1852/1852 [==============================] - 6s 3ms/step - loss: 4.4040\n",
      "Epoch 46/100\n",
      "1852/1852 [==============================] - 6s 3ms/step - loss: 4.4047\n",
      "Epoch 47/100\n",
      "1852/1852 [==============================] - 6s 3ms/step - loss: 4.4099\n",
      "Epoch 48/100\n",
      "1852/1852 [==============================] - 6s 3ms/step - loss: 4.4030\n",
      "Epoch 49/100\n",
      "1852/1852 [==============================] - 6s 3ms/step - loss: 4.3964\n",
      "Epoch 50/100\n",
      "1852/1852 [==============================] - 6s 3ms/step - loss: 4.3973\n",
      "Epoch 51/100\n",
      "1852/1852 [==============================] - 6s 3ms/step - loss: 4.3971\n",
      "Epoch 52/100\n",
      "1852/1852 [==============================] - 7s 4ms/step - loss: 4.4007\n",
      "Epoch 53/100\n",
      "1852/1852 [==============================] - 6s 3ms/step - loss: 4.3940\n",
      "Epoch 54/100\n",
      "1852/1852 [==============================] - 6s 3ms/step - loss: 4.4011\n",
      "Epoch 55/100\n",
      "1852/1852 [==============================] - 7s 4ms/step - loss: 4.3926\n",
      "Epoch 56/100\n",
      "1852/1852 [==============================] - 6s 3ms/step - loss: 4.4006\n",
      "Epoch 57/100\n",
      "1852/1852 [==============================] - 7s 4ms/step - loss: 4.3891\n",
      "Epoch 58/100\n",
      "1852/1852 [==============================] - 7s 4ms/step - loss: 4.3917\n",
      "Epoch 59/100\n",
      "1852/1852 [==============================] - 7s 4ms/step - loss: 4.3915\n",
      "Epoch 60/100\n",
      "1852/1852 [==============================] - 7s 4ms/step - loss: 4.3869\n",
      "Epoch 61/100\n",
      "1852/1852 [==============================] - 6s 3ms/step - loss: 4.3946\n",
      "Epoch 62/100\n",
      "1852/1852 [==============================] - 6s 3ms/step - loss: 4.3838\n",
      "Epoch 63/100\n",
      "1852/1852 [==============================] - 7s 4ms/step - loss: 4.3916\n",
      "Epoch 64/100\n",
      "1852/1852 [==============================] - 7s 4ms/step - loss: 4.3866\n",
      "Epoch 65/100\n",
      "1852/1852 [==============================] - 7s 4ms/step - loss: 4.3902\n",
      "Epoch 66/100\n",
      "1852/1852 [==============================] - 7s 4ms/step - loss: 4.3901\n",
      "Epoch 67/100\n",
      "1852/1852 [==============================] - 6s 3ms/step - loss: 4.3829\n",
      "Epoch 68/100\n",
      "1852/1852 [==============================] - 5s 3ms/step - loss: 4.3886\n",
      "Epoch 69/100\n",
      "1852/1852 [==============================] - 6s 3ms/step - loss: 4.3824\n",
      "Epoch 70/100\n",
      "1852/1852 [==============================] - 7s 4ms/step - loss: 4.3840\n",
      "Epoch 71/100\n",
      "1852/1852 [==============================] - 6s 3ms/step - loss: 4.3873\n",
      "Epoch 72/100\n",
      "1852/1852 [==============================] - 6s 3ms/step - loss: 4.3880\n",
      "Epoch 73/100\n",
      "1852/1852 [==============================] - 6s 3ms/step - loss: 4.3811\n",
      "Epoch 74/100\n",
      "1852/1852 [==============================] - 6s 3ms/step - loss: 4.3836\n",
      "Epoch 75/100\n",
      "1852/1852 [==============================] - 6s 3ms/step - loss: 4.3855\n",
      "Epoch 76/100\n",
      "1852/1852 [==============================] - 7s 4ms/step - loss: 4.3775\n",
      "Epoch 77/100\n",
      "1852/1852 [==============================] - 7s 4ms/step - loss: 4.3784\n",
      "Epoch 78/100\n",
      "1852/1852 [==============================] - 7s 4ms/step - loss: 4.3797\n",
      "Epoch 79/100\n",
      "1852/1852 [==============================] - 7s 4ms/step - loss: 4.3815\n",
      "Epoch 80/100\n",
      "1852/1852 [==============================] - 7s 4ms/step - loss: 4.3816\n",
      "Epoch 81/100\n",
      "1852/1852 [==============================] - 6s 3ms/step - loss: 4.3822\n",
      "Epoch 82/100\n",
      "1852/1852 [==============================] - 6s 3ms/step - loss: 4.3842\n",
      "Epoch 83/100\n",
      "1852/1852 [==============================] - 6s 3ms/step - loss: 4.3798\n",
      "Epoch 84/100\n",
      "1852/1852 [==============================] - 6s 3ms/step - loss: 4.3779\n",
      "Epoch 85/100\n",
      "1852/1852 [==============================] - 6s 3ms/step - loss: 4.3741\n",
      "Epoch 86/100\n",
      "1852/1852 [==============================] - 6s 3ms/step - loss: 4.3758\n",
      "Epoch 87/100\n",
      "1852/1852 [==============================] - 6s 3ms/step - loss: 4.3747\n",
      "Epoch 88/100\n",
      "1852/1852 [==============================] - 6s 3ms/step - loss: 4.3731\n",
      "Epoch 89/100\n",
      "1852/1852 [==============================] - 6s 3ms/step - loss: 4.3733\n",
      "Epoch 90/100\n",
      "1852/1852 [==============================] - 6s 3ms/step - loss: 4.3748\n",
      "Epoch 91/100\n",
      "1852/1852 [==============================] - 6s 3ms/step - loss: 4.3733\n",
      "Epoch 92/100\n",
      "1852/1852 [==============================] - 6s 3ms/step - loss: 4.3739\n",
      "Epoch 93/100\n",
      "1852/1852 [==============================] - 7s 4ms/step - loss: 4.3797\n",
      "Epoch 94/100\n",
      "1852/1852 [==============================] - 6s 3ms/step - loss: 4.3789\n",
      "Epoch 95/100\n",
      "1852/1852 [==============================] - 6s 3ms/step - loss: 4.3735\n",
      "Epoch 96/100\n",
      "1852/1852 [==============================] - 6s 3ms/step - loss: 4.3748\n",
      "Epoch 97/100\n",
      "1852/1852 [==============================] - 6s 3ms/step - loss: 4.3746\n",
      "Epoch 98/100\n",
      "1852/1852 [==============================] - 6s 3ms/step - loss: 4.3709\n",
      "Epoch 99/100\n",
      "1852/1852 [==============================] - 6s 3ms/step - loss: 4.3781\n",
      "Epoch 100/100\n",
      "1852/1852 [==============================] - 7s 4ms/step - loss: 4.3727\n",
      "463/463 [==============================] - 1s 2ms/step\n",
      "Mean Squared Error: 4.361125744131471\n"
     ]
    }
   ],
   "source": [
    "import tensorflow as tf\n",
    "from tensorflow import keras\n",
    "\n",
    "# Prepare your data (X_train, y_train, X_test, y_test)\n",
    "\n",
    "# Build your regression model\n",
    "model12 = keras.Sequential([\n",
    "   \n",
    "    keras.layers.Dense(32, activation='relu', input_shape=(8,)),\n",
    "    keras.layers.Dense(1)\n",
    "])\n",
    "\n",
    "model12.compile(loss='mean_squared_error', optimizer='adam')\n",
    "\n",
    "# Train your model\n",
    "history = model12.fit(X_train, y_train, epochs=100,verbose = 1)\n",
    "\n",
    "# Evaluate your model\n",
    "predictions = model12.predict(X_test)\n",
    "mse = mean_squared_error(y_test, predictions)\n",
    "tb[ 'Tensor128:50'] = mse\n",
    "print(\"Mean Squared Error:\", mse)"
   ]
  },
  {
   "cell_type": "code",
   "execution_count": 37,
   "id": "0d8dc8dc-bcd6-4e2a-a6f3-21529087592f",
   "metadata": {},
   "outputs": [
    {
     "data": {
      "image/png": "[encoded data removed]",
      "text/plain": [
       "<Figure size 640x480 with 1 Axes>"
      ]
     },
     "metadata": {},
     "output_type": "display_data"
    }
   ],
   "source": [
    "import matplotlib.pyplot as plt\n",
    "plt.plot(history.history['loss'])\n",
    "plt.title('Model Loss')\n",
    "plt.xlabel('Epoch')\n",
    "plt.ylabel('Loss')\n",
    "plt.show()"
   ]
  },
  {
   "cell_type": "code",
   "execution_count": 32,
   "id": "97323749-f1d8-4041-b611-94696e049c02",
   "metadata": {},
   "outputs": [
    {
     "data": {
      "text/plain": [
       "8"
      ]
     },
     "execution_count": 32,
     "metadata": {},
     "output_type": "execute_result"
    }
   ],
   "source": [
    "len(df.columns)"
   ]
  },
  {
   "cell_type": "markdown",
   "id": "e7dee532-ff2d-4085-baac-8536f0e0358e",
   "metadata": {},
   "source": [
    "# TESTER"
   ]
  },
  {
   "cell_type": "code",
   "execution_count": 39,
   "id": "225ba1b7-65ba-46d5-9a3f-eb2e3cb57a9c",
   "metadata": {
    "tags": []
   },
   "outputs": [],
   "source": [
    "pf = pd.read_csv('test.csv',index_col = 'id')\n",
    "pf['Sex'] = pf['Sex'].map({'M' : 1,  'I':2, 'F':3})"
   ]
  },
  {
   "cell_type": "code",
   "execution_count": 40,
   "id": "e66eb977-b3f8-46c2-9efd-c9b7f316ee19",
   "metadata": {},
   "outputs": [
    {
     "name": "stdout",
     "output_type": "stream",
     "text": [
      "1543/1543 [==============================] - 3s 2ms/step\n",
      "\n",
      "CSV String:\n",
      " None\n"
     ]
    }
   ],
   "source": [
    "scaler = MinMaxScaler()\n",
    "scaler.fit(pf)\n",
    "X = pd.DataFrame(scaler.transform(pf), columns=pf.columns)\n",
    "Age = model1.predict(X)\n",
    "sf = pd.read_csv('sample_submission.csv',index_col = 'id')\n",
    "sf['Age'] = Age\n",
    "gfg_csv_data = sf.to_csv('SEND10.csv', index = True)\n",
    "print('\\nCSV String:\\n', gfg_csv_data)"
   ]
  },
  {
   "cell_type": "code",
   "execution_count": 35,
   "id": "57374b6b-f50e-47bf-88dc-ddc871e8617c",
   "metadata": {},
   "outputs": [
    {
     "data": {
      "text/plain": [
       "{'LinearRegression': 4.6438687763992075,\n",
       " 'PolynomialFeatures': 4.301580752639548,\n",
       " 'Ridge': 4.644834308184121,\n",
       " 'lasso': 6.409514974338962,\n",
       " 'ElasticNet': 6.93300346181345,\n",
       " 'DecisionTreeRegressor': 8.514077374924042,\n",
       " 'RandomForestRegressor': 4.356784191331612,\n",
       " 'GradientBoostingRegressor': 4.159428243633231,\n",
       " 'BayesianRidge': 4.643900746833225,\n",
       " 'PassiveAggressiveRegressor': 9.953226743474952,\n",
       " 'OrthogonalMatchingPursuit': 6.24413119272728,\n",
       " 'RANSACRegressor': 6.6810809790051255,\n",
       " 'HuberRegressor': 4.795631576242048,\n",
       " 'TheilSenRegressor': 4.705804062162434,\n",
       " 'ARDRegression': 4.644759225794523,\n",
       " 'ARDRegrPassiveAggressiveClassifieression': 6.295321045169131,\n",
       " 'PoissonRegressor': 7.15210770184293,\n",
       " 'Lars': 4.64386877639921,\n",
       " 'RidgeCV': 4.64402220125446,\n",
       " 'TF64:150': 4.23765857209698,\n",
       " 'Tensor128:50': 4.2687707529963195}"
      ]
     },
     "execution_count": 35,
     "metadata": {},
     "output_type": "execute_result"
    }
   ],
   "source": [
    "# Python code demonstrate creating\n",
    "# DataFrame from dict narray / lists\n",
    "# By default addresses.\n",
    "\n",
    "tb"
   ]
  },
  {
   "cell_type": "code",
   "execution_count": null,
   "id": "8b0eb4d6-ced6-4d19-9e8a-16f5aa052528",
   "metadata": {},
   "outputs": [],
   "source": []
  },
  {
   "cell_type": "code",
   "execution_count": null,
   "id": "fe8848c2-c41c-4508-91de-5224739a9997",
   "metadata": {},
   "outputs": [],
   "source": []
  }
 ],
 "metadata": {
  "colab": {
   "provenance": []
  },
  "kernelspec": {
   "display_name": "bankai",
   "language": "python",
   "name": "bankai"
  },
  "language_info": {
   "codemirror_mode": {
    "name": "ipython",
    "version": 3
   },
   "file_extension": ".py",
   "mimetype": "text/x-python",
   "name": "python",
   "nbconvert_exporter": "python",
   "pygments_lexer": "ipython3",
   "version": "3.9.16"
  }
 },
 "nbformat": 4,
 "nbformat_minor": 5
}
